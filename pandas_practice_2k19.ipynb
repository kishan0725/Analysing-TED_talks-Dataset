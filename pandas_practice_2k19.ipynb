{
 "cells": [
  {
   "cell_type": "markdown",
   "metadata": {},
   "source": [
    "## 1. Introduction to the TED Talks dataset"
   ]
  },
  {
   "cell_type": "code",
   "execution_count": 1,
   "metadata": {},
   "outputs": [],
   "source": [
    "# import required libraries\n",
    "import pandas as pd\n",
    "import matplotlib.pyplot as plt\n",
    "%matplotlib inline"
   ]
  },
  {
   "cell_type": "code",
   "execution_count": 2,
   "metadata": {},
   "outputs": [],
   "source": [
    "# import the dataset\n",
    "ted = pd.read_csv('ted.csv')"
   ]
  },
  {
   "cell_type": "code",
   "execution_count": 3,
   "metadata": {},
   "outputs": [
    {
     "data": {
      "text/html": [
       "<div>\n",
       "<style scoped>\n",
       "    .dataframe tbody tr th:only-of-type {\n",
       "        vertical-align: middle;\n",
       "    }\n",
       "\n",
       "    .dataframe tbody tr th {\n",
       "        vertical-align: top;\n",
       "    }\n",
       "\n",
       "    .dataframe thead th {\n",
       "        text-align: right;\n",
       "    }\n",
       "</style>\n",
       "<table border=\"1\" class=\"dataframe\">\n",
       "  <thead>\n",
       "    <tr style=\"text-align: right;\">\n",
       "      <th></th>\n",
       "      <th>comments</th>\n",
       "      <th>description</th>\n",
       "      <th>duration</th>\n",
       "      <th>event</th>\n",
       "      <th>film_date</th>\n",
       "      <th>languages</th>\n",
       "      <th>main_speaker</th>\n",
       "      <th>name</th>\n",
       "      <th>num_speaker</th>\n",
       "      <th>published_date</th>\n",
       "      <th>ratings</th>\n",
       "      <th>related_talks</th>\n",
       "      <th>speaker_occupation</th>\n",
       "      <th>tags</th>\n",
       "      <th>title</th>\n",
       "      <th>url</th>\n",
       "      <th>views</th>\n",
       "    </tr>\n",
       "  </thead>\n",
       "  <tbody>\n",
       "    <tr>\n",
       "      <th>0</th>\n",
       "      <td>4553</td>\n",
       "      <td>Sir Ken Robinson makes an entertaining and pro...</td>\n",
       "      <td>1164</td>\n",
       "      <td>TED2006</td>\n",
       "      <td>1140825600</td>\n",
       "      <td>60</td>\n",
       "      <td>Ken Robinson</td>\n",
       "      <td>Ken Robinson: Do schools kill creativity?</td>\n",
       "      <td>1</td>\n",
       "      <td>1151367060</td>\n",
       "      <td>[{'id': 7, 'name': 'Funny', 'count': 19645}, {...</td>\n",
       "      <td>[{'id': 865, 'hero': 'https://pe.tedcdn.com/im...</td>\n",
       "      <td>Author/educator</td>\n",
       "      <td>['children', 'creativity', 'culture', 'dance',...</td>\n",
       "      <td>Do schools kill creativity?</td>\n",
       "      <td>https://www.ted.com/talks/ken_robinson_says_sc...</td>\n",
       "      <td>47227110</td>\n",
       "    </tr>\n",
       "    <tr>\n",
       "      <th>1</th>\n",
       "      <td>265</td>\n",
       "      <td>With the same humor and humanity he exuded in ...</td>\n",
       "      <td>977</td>\n",
       "      <td>TED2006</td>\n",
       "      <td>1140825600</td>\n",
       "      <td>43</td>\n",
       "      <td>Al Gore</td>\n",
       "      <td>Al Gore: Averting the climate crisis</td>\n",
       "      <td>1</td>\n",
       "      <td>1151367060</td>\n",
       "      <td>[{'id': 7, 'name': 'Funny', 'count': 544}, {'i...</td>\n",
       "      <td>[{'id': 243, 'hero': 'https://pe.tedcdn.com/im...</td>\n",
       "      <td>Climate advocate</td>\n",
       "      <td>['alternative energy', 'cars', 'climate change...</td>\n",
       "      <td>Averting the climate crisis</td>\n",
       "      <td>https://www.ted.com/talks/al_gore_on_averting_...</td>\n",
       "      <td>3200520</td>\n",
       "    </tr>\n",
       "    <tr>\n",
       "      <th>2</th>\n",
       "      <td>124</td>\n",
       "      <td>New York Times columnist David Pogue takes aim...</td>\n",
       "      <td>1286</td>\n",
       "      <td>TED2006</td>\n",
       "      <td>1140739200</td>\n",
       "      <td>26</td>\n",
       "      <td>David Pogue</td>\n",
       "      <td>David Pogue: Simplicity sells</td>\n",
       "      <td>1</td>\n",
       "      <td>1151367060</td>\n",
       "      <td>[{'id': 7, 'name': 'Funny', 'count': 964}, {'i...</td>\n",
       "      <td>[{'id': 1725, 'hero': 'https://pe.tedcdn.com/i...</td>\n",
       "      <td>Technology columnist</td>\n",
       "      <td>['computers', 'entertainment', 'interface desi...</td>\n",
       "      <td>Simplicity sells</td>\n",
       "      <td>https://www.ted.com/talks/david_pogue_says_sim...</td>\n",
       "      <td>1636292</td>\n",
       "    </tr>\n",
       "    <tr>\n",
       "      <th>3</th>\n",
       "      <td>200</td>\n",
       "      <td>In an emotionally charged talk, MacArthur-winn...</td>\n",
       "      <td>1116</td>\n",
       "      <td>TED2006</td>\n",
       "      <td>1140912000</td>\n",
       "      <td>35</td>\n",
       "      <td>Majora Carter</td>\n",
       "      <td>Majora Carter: Greening the ghetto</td>\n",
       "      <td>1</td>\n",
       "      <td>1151367060</td>\n",
       "      <td>[{'id': 3, 'name': 'Courageous', 'count': 760}...</td>\n",
       "      <td>[{'id': 1041, 'hero': 'https://pe.tedcdn.com/i...</td>\n",
       "      <td>Activist for environmental justice</td>\n",
       "      <td>['MacArthur grant', 'activism', 'business', 'c...</td>\n",
       "      <td>Greening the ghetto</td>\n",
       "      <td>https://www.ted.com/talks/majora_carter_s_tale...</td>\n",
       "      <td>1697550</td>\n",
       "    </tr>\n",
       "    <tr>\n",
       "      <th>4</th>\n",
       "      <td>593</td>\n",
       "      <td>You've never seen data presented like this. Wi...</td>\n",
       "      <td>1190</td>\n",
       "      <td>TED2006</td>\n",
       "      <td>1140566400</td>\n",
       "      <td>48</td>\n",
       "      <td>Hans Rosling</td>\n",
       "      <td>Hans Rosling: The best stats you've ever seen</td>\n",
       "      <td>1</td>\n",
       "      <td>1151440680</td>\n",
       "      <td>[{'id': 9, 'name': 'Ingenious', 'count': 3202}...</td>\n",
       "      <td>[{'id': 2056, 'hero': 'https://pe.tedcdn.com/i...</td>\n",
       "      <td>Global health expert; data visionary</td>\n",
       "      <td>['Africa', 'Asia', 'Google', 'demo', 'economic...</td>\n",
       "      <td>The best stats you've ever seen</td>\n",
       "      <td>https://www.ted.com/talks/hans_rosling_shows_t...</td>\n",
       "      <td>12005869</td>\n",
       "    </tr>\n",
       "    <tr>\n",
       "      <th>5</th>\n",
       "      <td>672</td>\n",
       "      <td>Tony Robbins discusses the \"invisible forces\" ...</td>\n",
       "      <td>1305</td>\n",
       "      <td>TED2006</td>\n",
       "      <td>1138838400</td>\n",
       "      <td>36</td>\n",
       "      <td>Tony Robbins</td>\n",
       "      <td>Tony Robbins: Why we do what we do</td>\n",
       "      <td>1</td>\n",
       "      <td>1151440680</td>\n",
       "      <td>[{'id': 7, 'name': 'Funny', 'count': 1102}, {'...</td>\n",
       "      <td>[{'id': 229, 'hero': 'https://pe.tedcdn.com/im...</td>\n",
       "      <td>Life coach; expert in leadership psychology</td>\n",
       "      <td>['business', 'culture', 'entertainment', 'goal...</td>\n",
       "      <td>Why we do what we do</td>\n",
       "      <td>https://www.ted.com/talks/tony_robbins_asks_wh...</td>\n",
       "      <td>20685401</td>\n",
       "    </tr>\n",
       "    <tr>\n",
       "      <th>6</th>\n",
       "      <td>919</td>\n",
       "      <td>When two young Mormon missionaries knock on Ju...</td>\n",
       "      <td>992</td>\n",
       "      <td>TED2006</td>\n",
       "      <td>1140739200</td>\n",
       "      <td>31</td>\n",
       "      <td>Julia Sweeney</td>\n",
       "      <td>Julia Sweeney: Letting go of God</td>\n",
       "      <td>1</td>\n",
       "      <td>1152490260</td>\n",
       "      <td>[{'id': 3, 'name': 'Courageous', 'count': 477}...</td>\n",
       "      <td>[{'id': 22, 'hero': 'https://pe.tedcdn.com/ima...</td>\n",
       "      <td>Actor, comedian, playwright</td>\n",
       "      <td>['Christianity', 'God', 'atheism', 'comedy', '...</td>\n",
       "      <td>Letting go of God</td>\n",
       "      <td>https://www.ted.com/talks/julia_sweeney_on_let...</td>\n",
       "      <td>3769987</td>\n",
       "    </tr>\n",
       "    <tr>\n",
       "      <th>7</th>\n",
       "      <td>46</td>\n",
       "      <td>Architect Joshua Prince-Ramus takes the audien...</td>\n",
       "      <td>1198</td>\n",
       "      <td>TED2006</td>\n",
       "      <td>1140652800</td>\n",
       "      <td>19</td>\n",
       "      <td>Joshua Prince-Ramus</td>\n",
       "      <td>Joshua Prince-Ramus: Behind the design of Seat...</td>\n",
       "      <td>1</td>\n",
       "      <td>1152490260</td>\n",
       "      <td>[{'id': 9, 'name': 'Ingenious', 'count': 195},...</td>\n",
       "      <td>[{'id': 750, 'hero': 'https://pe.tedcdn.com/im...</td>\n",
       "      <td>Architect</td>\n",
       "      <td>['architecture', 'collaboration', 'culture', '...</td>\n",
       "      <td>Behind the design of Seattle's library</td>\n",
       "      <td>https://www.ted.com/talks/joshua_prince_ramus_...</td>\n",
       "      <td>967741</td>\n",
       "    </tr>\n",
       "    <tr>\n",
       "      <th>8</th>\n",
       "      <td>852</td>\n",
       "      <td>Philosopher Dan Dennett calls for religion -- ...</td>\n",
       "      <td>1485</td>\n",
       "      <td>TED2006</td>\n",
       "      <td>1138838400</td>\n",
       "      <td>32</td>\n",
       "      <td>Dan Dennett</td>\n",
       "      <td>Dan Dennett: Let's teach religion -- all relig...</td>\n",
       "      <td>1</td>\n",
       "      <td>1153181460</td>\n",
       "      <td>[{'id': 3, 'name': 'Courageous', 'count': 562}...</td>\n",
       "      <td>[{'id': 71, 'hero': 'https://pe.tedcdn.com/ima...</td>\n",
       "      <td>Philosopher, cognitive scientist</td>\n",
       "      <td>['God', 'TED Brain Trust', 'atheism', 'brain',...</td>\n",
       "      <td>Let's teach religion -- all religion -- in sch...</td>\n",
       "      <td>https://www.ted.com/talks/dan_dennett_s_respon...</td>\n",
       "      <td>2567958</td>\n",
       "    </tr>\n",
       "    <tr>\n",
       "      <th>9</th>\n",
       "      <td>900</td>\n",
       "      <td>Pastor Rick Warren, author of \"The Purpose-Dri...</td>\n",
       "      <td>1262</td>\n",
       "      <td>TED2006</td>\n",
       "      <td>1140825600</td>\n",
       "      <td>31</td>\n",
       "      <td>Rick Warren</td>\n",
       "      <td>Rick Warren: A life of purpose</td>\n",
       "      <td>1</td>\n",
       "      <td>1153181460</td>\n",
       "      <td>[{'id': 21, 'name': 'Unconvincing', 'count': 8...</td>\n",
       "      <td>[{'id': 94, 'hero': 'https://pe.tedcdn.com/ima...</td>\n",
       "      <td>Pastor, author</td>\n",
       "      <td>['Christianity', 'God', 'culture', 'happiness'...</td>\n",
       "      <td>A life of purpose</td>\n",
       "      <td>https://www.ted.com/talks/rick_warren_on_a_lif...</td>\n",
       "      <td>3095993</td>\n",
       "    </tr>\n",
       "  </tbody>\n",
       "</table>\n",
       "</div>"
      ],
      "text/plain": [
       "   comments                                        description  duration  \\\n",
       "0      4553  Sir Ken Robinson makes an entertaining and pro...      1164   \n",
       "1       265  With the same humor and humanity he exuded in ...       977   \n",
       "2       124  New York Times columnist David Pogue takes aim...      1286   \n",
       "3       200  In an emotionally charged talk, MacArthur-winn...      1116   \n",
       "4       593  You've never seen data presented like this. Wi...      1190   \n",
       "5       672  Tony Robbins discusses the \"invisible forces\" ...      1305   \n",
       "6       919  When two young Mormon missionaries knock on Ju...       992   \n",
       "7        46  Architect Joshua Prince-Ramus takes the audien...      1198   \n",
       "8       852  Philosopher Dan Dennett calls for religion -- ...      1485   \n",
       "9       900  Pastor Rick Warren, author of \"The Purpose-Dri...      1262   \n",
       "\n",
       "     event   film_date  languages         main_speaker  \\\n",
       "0  TED2006  1140825600         60         Ken Robinson   \n",
       "1  TED2006  1140825600         43              Al Gore   \n",
       "2  TED2006  1140739200         26          David Pogue   \n",
       "3  TED2006  1140912000         35        Majora Carter   \n",
       "4  TED2006  1140566400         48         Hans Rosling   \n",
       "5  TED2006  1138838400         36         Tony Robbins   \n",
       "6  TED2006  1140739200         31        Julia Sweeney   \n",
       "7  TED2006  1140652800         19  Joshua Prince-Ramus   \n",
       "8  TED2006  1138838400         32          Dan Dennett   \n",
       "9  TED2006  1140825600         31          Rick Warren   \n",
       "\n",
       "                                                name  num_speaker  \\\n",
       "0          Ken Robinson: Do schools kill creativity?            1   \n",
       "1               Al Gore: Averting the climate crisis            1   \n",
       "2                      David Pogue: Simplicity sells            1   \n",
       "3                 Majora Carter: Greening the ghetto            1   \n",
       "4      Hans Rosling: The best stats you've ever seen            1   \n",
       "5                 Tony Robbins: Why we do what we do            1   \n",
       "6                   Julia Sweeney: Letting go of God            1   \n",
       "7  Joshua Prince-Ramus: Behind the design of Seat...            1   \n",
       "8  Dan Dennett: Let's teach religion -- all relig...            1   \n",
       "9                     Rick Warren: A life of purpose            1   \n",
       "\n",
       "   published_date                                            ratings  \\\n",
       "0      1151367060  [{'id': 7, 'name': 'Funny', 'count': 19645}, {...   \n",
       "1      1151367060  [{'id': 7, 'name': 'Funny', 'count': 544}, {'i...   \n",
       "2      1151367060  [{'id': 7, 'name': 'Funny', 'count': 964}, {'i...   \n",
       "3      1151367060  [{'id': 3, 'name': 'Courageous', 'count': 760}...   \n",
       "4      1151440680  [{'id': 9, 'name': 'Ingenious', 'count': 3202}...   \n",
       "5      1151440680  [{'id': 7, 'name': 'Funny', 'count': 1102}, {'...   \n",
       "6      1152490260  [{'id': 3, 'name': 'Courageous', 'count': 477}...   \n",
       "7      1152490260  [{'id': 9, 'name': 'Ingenious', 'count': 195},...   \n",
       "8      1153181460  [{'id': 3, 'name': 'Courageous', 'count': 562}...   \n",
       "9      1153181460  [{'id': 21, 'name': 'Unconvincing', 'count': 8...   \n",
       "\n",
       "                                       related_talks  \\\n",
       "0  [{'id': 865, 'hero': 'https://pe.tedcdn.com/im...   \n",
       "1  [{'id': 243, 'hero': 'https://pe.tedcdn.com/im...   \n",
       "2  [{'id': 1725, 'hero': 'https://pe.tedcdn.com/i...   \n",
       "3  [{'id': 1041, 'hero': 'https://pe.tedcdn.com/i...   \n",
       "4  [{'id': 2056, 'hero': 'https://pe.tedcdn.com/i...   \n",
       "5  [{'id': 229, 'hero': 'https://pe.tedcdn.com/im...   \n",
       "6  [{'id': 22, 'hero': 'https://pe.tedcdn.com/ima...   \n",
       "7  [{'id': 750, 'hero': 'https://pe.tedcdn.com/im...   \n",
       "8  [{'id': 71, 'hero': 'https://pe.tedcdn.com/ima...   \n",
       "9  [{'id': 94, 'hero': 'https://pe.tedcdn.com/ima...   \n",
       "\n",
       "                            speaker_occupation  \\\n",
       "0                              Author/educator   \n",
       "1                             Climate advocate   \n",
       "2                         Technology columnist   \n",
       "3           Activist for environmental justice   \n",
       "4         Global health expert; data visionary   \n",
       "5  Life coach; expert in leadership psychology   \n",
       "6                  Actor, comedian, playwright   \n",
       "7                                    Architect   \n",
       "8             Philosopher, cognitive scientist   \n",
       "9                               Pastor, author   \n",
       "\n",
       "                                                tags  \\\n",
       "0  ['children', 'creativity', 'culture', 'dance',...   \n",
       "1  ['alternative energy', 'cars', 'climate change...   \n",
       "2  ['computers', 'entertainment', 'interface desi...   \n",
       "3  ['MacArthur grant', 'activism', 'business', 'c...   \n",
       "4  ['Africa', 'Asia', 'Google', 'demo', 'economic...   \n",
       "5  ['business', 'culture', 'entertainment', 'goal...   \n",
       "6  ['Christianity', 'God', 'atheism', 'comedy', '...   \n",
       "7  ['architecture', 'collaboration', 'culture', '...   \n",
       "8  ['God', 'TED Brain Trust', 'atheism', 'brain',...   \n",
       "9  ['Christianity', 'God', 'culture', 'happiness'...   \n",
       "\n",
       "                                               title  \\\n",
       "0                        Do schools kill creativity?   \n",
       "1                        Averting the climate crisis   \n",
       "2                                   Simplicity sells   \n",
       "3                                Greening the ghetto   \n",
       "4                    The best stats you've ever seen   \n",
       "5                               Why we do what we do   \n",
       "6                                  Letting go of God   \n",
       "7             Behind the design of Seattle's library   \n",
       "8  Let's teach religion -- all religion -- in sch...   \n",
       "9                                  A life of purpose   \n",
       "\n",
       "                                                 url     views  \n",
       "0  https://www.ted.com/talks/ken_robinson_says_sc...  47227110  \n",
       "1  https://www.ted.com/talks/al_gore_on_averting_...   3200520  \n",
       "2  https://www.ted.com/talks/david_pogue_says_sim...   1636292  \n",
       "3  https://www.ted.com/talks/majora_carter_s_tale...   1697550  \n",
       "4  https://www.ted.com/talks/hans_rosling_shows_t...  12005869  \n",
       "5  https://www.ted.com/talks/tony_robbins_asks_wh...  20685401  \n",
       "6  https://www.ted.com/talks/julia_sweeney_on_let...   3769987  \n",
       "7  https://www.ted.com/talks/joshua_prince_ramus_...    967741  \n",
       "8  https://www.ted.com/talks/dan_dennett_s_respon...   2567958  \n",
       "9  https://www.ted.com/talks/rick_warren_on_a_lif...   3095993  "
      ]
     },
     "execution_count": 3,
     "metadata": {},
     "output_type": "execute_result"
    }
   ],
   "source": [
    "# displaying first 10 observations in the dataset\n",
    "ted.head(10)"
   ]
  },
  {
   "cell_type": "code",
   "execution_count": 4,
   "metadata": {},
   "outputs": [
    {
     "data": {
      "text/plain": [
       "(2550, 17)"
      ]
     },
     "execution_count": 4,
     "metadata": {},
     "output_type": "execute_result"
    }
   ],
   "source": [
    "# shape of the dataset\n",
    "ted.shape"
   ]
  },
  {
   "cell_type": "code",
   "execution_count": 5,
   "metadata": {},
   "outputs": [
    {
     "data": {
      "text/plain": [
       "comments               int64\n",
       "description           object\n",
       "duration               int64\n",
       "event                 object\n",
       "film_date              int64\n",
       "languages              int64\n",
       "main_speaker          object\n",
       "name                  object\n",
       "num_speaker            int64\n",
       "published_date         int64\n",
       "ratings               object\n",
       "related_talks         object\n",
       "speaker_occupation    object\n",
       "tags                  object\n",
       "title                 object\n",
       "url                   object\n",
       "views                  int64\n",
       "dtype: object"
      ]
     },
     "execution_count": 5,
     "metadata": {},
     "output_type": "execute_result"
    }
   ],
   "source": [
    "# datatype for each feature(column) in the dataset\n",
    "ted.dtypes"
   ]
  },
  {
   "cell_type": "code",
   "execution_count": 6,
   "metadata": {},
   "outputs": [
    {
     "data": {
      "text/plain": [
       "comments              0\n",
       "description           0\n",
       "duration              0\n",
       "event                 0\n",
       "film_date             0\n",
       "languages             0\n",
       "main_speaker          0\n",
       "name                  0\n",
       "num_speaker           0\n",
       "published_date        0\n",
       "ratings               0\n",
       "related_talks         0\n",
       "speaker_occupation    6\n",
       "tags                  0\n",
       "title                 0\n",
       "url                   0\n",
       "views                 0\n",
       "dtype: int64"
      ]
     },
     "execution_count": 6,
     "metadata": {},
     "output_type": "execute_result"
    }
   ],
   "source": [
    "# check for any null values\n",
    "ted.isna().sum()"
   ]
  },
  {
   "cell_type": "markdown",
   "metadata": {},
   "source": [
    "## 2. Which talks provoke the most online discussion?"
   ]
  },
  {
   "cell_type": "code",
   "execution_count": 7,
   "metadata": {},
   "outputs": [
    {
     "data": {
      "text/html": [
       "<div>\n",
       "<style scoped>\n",
       "    .dataframe tbody tr th:only-of-type {\n",
       "        vertical-align: middle;\n",
       "    }\n",
       "\n",
       "    .dataframe tbody tr th {\n",
       "        vertical-align: top;\n",
       "    }\n",
       "\n",
       "    .dataframe thead th {\n",
       "        text-align: right;\n",
       "    }\n",
       "</style>\n",
       "<table border=\"1\" class=\"dataframe\">\n",
       "  <thead>\n",
       "    <tr style=\"text-align: right;\">\n",
       "      <th></th>\n",
       "      <th>title</th>\n",
       "      <th>views</th>\n",
       "    </tr>\n",
       "  </thead>\n",
       "  <tbody>\n",
       "    <tr>\n",
       "      <th>0</th>\n",
       "      <td>Do schools kill creativity?</td>\n",
       "      <td>47227110</td>\n",
       "    </tr>\n",
       "    <tr>\n",
       "      <th>1346</th>\n",
       "      <td>Your body language may shape who you are</td>\n",
       "      <td>43155405</td>\n",
       "    </tr>\n",
       "    <tr>\n",
       "      <th>677</th>\n",
       "      <td>How great leaders inspire action</td>\n",
       "      <td>34309432</td>\n",
       "    </tr>\n",
       "    <tr>\n",
       "      <th>837</th>\n",
       "      <td>The power of vulnerability</td>\n",
       "      <td>31168150</td>\n",
       "    </tr>\n",
       "    <tr>\n",
       "      <th>452</th>\n",
       "      <td>10 things you didn't know about orgasm</td>\n",
       "      <td>22270883</td>\n",
       "    </tr>\n",
       "    <tr>\n",
       "      <th>1776</th>\n",
       "      <td>How to speak so that people want to listen</td>\n",
       "      <td>21594632</td>\n",
       "    </tr>\n",
       "    <tr>\n",
       "      <th>201</th>\n",
       "      <td>My stroke of insight</td>\n",
       "      <td>21190883</td>\n",
       "    </tr>\n",
       "    <tr>\n",
       "      <th>5</th>\n",
       "      <td>Why we do what we do</td>\n",
       "      <td>20685401</td>\n",
       "    </tr>\n",
       "    <tr>\n",
       "      <th>2114</th>\n",
       "      <td>This is what happens when you reply to spam email</td>\n",
       "      <td>20475972</td>\n",
       "    </tr>\n",
       "    <tr>\n",
       "      <th>1416</th>\n",
       "      <td>Looks aren't everything. Believe me, I'm a model.</td>\n",
       "      <td>19787465</td>\n",
       "    </tr>\n",
       "  </tbody>\n",
       "</table>\n",
       "</div>"
      ],
      "text/plain": [
       "                                                  title     views\n",
       "0                           Do schools kill creativity?  47227110\n",
       "1346           Your body language may shape who you are  43155405\n",
       "677                    How great leaders inspire action  34309432\n",
       "837                          The power of vulnerability  31168150\n",
       "452              10 things you didn't know about orgasm  22270883\n",
       "1776         How to speak so that people want to listen  21594632\n",
       "201                                My stroke of insight  21190883\n",
       "5                                  Why we do what we do  20685401\n",
       "2114  This is what happens when you reply to spam email  20475972\n",
       "1416  Looks aren't everything. Believe me, I'm a model.  19787465"
      ]
     },
     "execution_count": 7,
     "metadata": {},
     "output_type": "execute_result"
    }
   ],
   "source": [
    "# based on views\n",
    "ted.loc[:,['title','views']].sort_values(by='views',ascending=False).head(10)"
   ]
  },
  {
   "cell_type": "code",
   "execution_count": 8,
   "metadata": {},
   "outputs": [
    {
     "data": {
      "text/html": [
       "<div>\n",
       "<style scoped>\n",
       "    .dataframe tbody tr th:only-of-type {\n",
       "        vertical-align: middle;\n",
       "    }\n",
       "\n",
       "    .dataframe tbody tr th {\n",
       "        vertical-align: top;\n",
       "    }\n",
       "\n",
       "    .dataframe thead th {\n",
       "        text-align: right;\n",
       "    }\n",
       "</style>\n",
       "<table border=\"1\" class=\"dataframe\">\n",
       "  <thead>\n",
       "    <tr style=\"text-align: right;\">\n",
       "      <th></th>\n",
       "      <th>title</th>\n",
       "      <th>comments</th>\n",
       "    </tr>\n",
       "  </thead>\n",
       "  <tbody>\n",
       "    <tr>\n",
       "      <th>96</th>\n",
       "      <td>Militant atheism</td>\n",
       "      <td>6404</td>\n",
       "    </tr>\n",
       "    <tr>\n",
       "      <th>0</th>\n",
       "      <td>Do schools kill creativity?</td>\n",
       "      <td>4553</td>\n",
       "    </tr>\n",
       "    <tr>\n",
       "      <th>644</th>\n",
       "      <td>Science can answer moral questions</td>\n",
       "      <td>3356</td>\n",
       "    </tr>\n",
       "    <tr>\n",
       "      <th>201</th>\n",
       "      <td>My stroke of insight</td>\n",
       "      <td>2877</td>\n",
       "    </tr>\n",
       "    <tr>\n",
       "      <th>1787</th>\n",
       "      <td>How do you explain consciousness?</td>\n",
       "      <td>2673</td>\n",
       "    </tr>\n",
       "    <tr>\n",
       "      <th>954</th>\n",
       "      <td>Taking imagination seriously</td>\n",
       "      <td>2492</td>\n",
       "    </tr>\n",
       "    <tr>\n",
       "      <th>840</th>\n",
       "      <td>On reading the Koran</td>\n",
       "      <td>2374</td>\n",
       "    </tr>\n",
       "    <tr>\n",
       "      <th>1346</th>\n",
       "      <td>Your body language may shape who you are</td>\n",
       "      <td>2290</td>\n",
       "    </tr>\n",
       "    <tr>\n",
       "      <th>661</th>\n",
       "      <td>The danger of science denial</td>\n",
       "      <td>2272</td>\n",
       "    </tr>\n",
       "    <tr>\n",
       "      <th>677</th>\n",
       "      <td>How great leaders inspire action</td>\n",
       "      <td>1930</td>\n",
       "    </tr>\n",
       "  </tbody>\n",
       "</table>\n",
       "</div>"
      ],
      "text/plain": [
       "                                         title  comments\n",
       "96                            Militant atheism      6404\n",
       "0                  Do schools kill creativity?      4553\n",
       "644         Science can answer moral questions      3356\n",
       "201                       My stroke of insight      2877\n",
       "1787         How do you explain consciousness?      2673\n",
       "954               Taking imagination seriously      2492\n",
       "840                       On reading the Koran      2374\n",
       "1346  Your body language may shape who you are      2290\n",
       "661               The danger of science denial      2272\n",
       "677           How great leaders inspire action      1930"
      ]
     },
     "execution_count": 8,
     "metadata": {},
     "output_type": "execute_result"
    }
   ],
   "source": [
    "# based on comments\n",
    "ted.loc[:,['title','comments']].sort_values(by='comments',ascending=False).head(10)"
   ]
  },
  {
   "cell_type": "code",
   "execution_count": 9,
   "metadata": {},
   "outputs": [],
   "source": [
    "# calculating the number of comments per view\n",
    "ted['comments_per_view'] = ted.comments / ted.views"
   ]
  },
  {
   "cell_type": "code",
   "execution_count": 10,
   "metadata": {},
   "outputs": [
    {
     "data": {
      "text/html": [
       "<div>\n",
       "<style scoped>\n",
       "    .dataframe tbody tr th:only-of-type {\n",
       "        vertical-align: middle;\n",
       "    }\n",
       "\n",
       "    .dataframe tbody tr th {\n",
       "        vertical-align: top;\n",
       "    }\n",
       "\n",
       "    .dataframe thead th {\n",
       "        text-align: right;\n",
       "    }\n",
       "</style>\n",
       "<table border=\"1\" class=\"dataframe\">\n",
       "  <thead>\n",
       "    <tr style=\"text-align: right;\">\n",
       "      <th></th>\n",
       "      <th>title</th>\n",
       "      <th>comments_per_view</th>\n",
       "    </tr>\n",
       "  </thead>\n",
       "  <tbody>\n",
       "    <tr>\n",
       "      <th>744</th>\n",
       "      <td>The case for same-sex marriage</td>\n",
       "      <td>0.002220</td>\n",
       "    </tr>\n",
       "    <tr>\n",
       "      <th>803</th>\n",
       "      <td>E-voting without fraud</td>\n",
       "      <td>0.001534</td>\n",
       "    </tr>\n",
       "    <tr>\n",
       "      <th>96</th>\n",
       "      <td>Militant atheism</td>\n",
       "      <td>0.001464</td>\n",
       "    </tr>\n",
       "    <tr>\n",
       "      <th>694</th>\n",
       "      <td>Inside a school for suicide bombers</td>\n",
       "      <td>0.001421</td>\n",
       "    </tr>\n",
       "    <tr>\n",
       "      <th>954</th>\n",
       "      <td>Taking imagination seriously</td>\n",
       "      <td>0.001360</td>\n",
       "    </tr>\n",
       "    <tr>\n",
       "      <th>840</th>\n",
       "      <td>On reading the Koran</td>\n",
       "      <td>0.001285</td>\n",
       "    </tr>\n",
       "    <tr>\n",
       "      <th>876</th>\n",
       "      <td>Curating humanity's heritage</td>\n",
       "      <td>0.001264</td>\n",
       "    </tr>\n",
       "    <tr>\n",
       "      <th>1787</th>\n",
       "      <td>How do you explain consciousness?</td>\n",
       "      <td>0.001236</td>\n",
       "    </tr>\n",
       "    <tr>\n",
       "      <th>661</th>\n",
       "      <td>The danger of science denial</td>\n",
       "      <td>0.001236</td>\n",
       "    </tr>\n",
       "    <tr>\n",
       "      <th>561</th>\n",
       "      <td>Dance to change the world</td>\n",
       "      <td>0.001235</td>\n",
       "    </tr>\n",
       "  </tbody>\n",
       "</table>\n",
       "</div>"
      ],
      "text/plain": [
       "                                    title  comments_per_view\n",
       "744        The case for same-sex marriage           0.002220\n",
       "803                E-voting without fraud           0.001534\n",
       "96                       Militant atheism           0.001464\n",
       "694   Inside a school for suicide bombers           0.001421\n",
       "954          Taking imagination seriously           0.001360\n",
       "840                  On reading the Koran           0.001285\n",
       "876          Curating humanity's heritage           0.001264\n",
       "1787    How do you explain consciousness?           0.001236\n",
       "661          The danger of science denial           0.001236\n",
       "561             Dance to change the world           0.001235"
      ]
     },
     "execution_count": 10,
     "metadata": {},
     "output_type": "execute_result"
    }
   ],
   "source": [
    "# interpretation: for every view of the same-sex marriage talk, there are 0.002 comments\n",
    "ted.loc[:,['title','comments_per_view']].sort_values(by='comments_per_view',ascending=False).head(10)"
   ]
  },
  {
   "cell_type": "code",
   "execution_count": 11,
   "metadata": {},
   "outputs": [],
   "source": [
    "# make this more interpretable by inverting the calculation\n",
    "ted['views_per_comment'] = ted.views / ted.comments"
   ]
  },
  {
   "cell_type": "code",
   "execution_count": 12,
   "metadata": {},
   "outputs": [
    {
     "data": {
      "text/html": [
       "<div>\n",
       "<style scoped>\n",
       "    .dataframe tbody tr th:only-of-type {\n",
       "        vertical-align: middle;\n",
       "    }\n",
       "\n",
       "    .dataframe tbody tr th {\n",
       "        vertical-align: top;\n",
       "    }\n",
       "\n",
       "    .dataframe thead th {\n",
       "        text-align: right;\n",
       "    }\n",
       "</style>\n",
       "<table border=\"1\" class=\"dataframe\">\n",
       "  <thead>\n",
       "    <tr style=\"text-align: right;\">\n",
       "      <th></th>\n",
       "      <th>title</th>\n",
       "      <th>views_per_comment</th>\n",
       "    </tr>\n",
       "  </thead>\n",
       "  <tbody>\n",
       "    <tr>\n",
       "      <th>744</th>\n",
       "      <td>The case for same-sex marriage</td>\n",
       "      <td>450.531587</td>\n",
       "    </tr>\n",
       "    <tr>\n",
       "      <th>803</th>\n",
       "      <td>E-voting without fraud</td>\n",
       "      <td>651.739808</td>\n",
       "    </tr>\n",
       "    <tr>\n",
       "      <th>96</th>\n",
       "      <td>Militant atheism</td>\n",
       "      <td>683.134291</td>\n",
       "    </tr>\n",
       "    <tr>\n",
       "      <th>694</th>\n",
       "      <td>Inside a school for suicide bombers</td>\n",
       "      <td>703.886818</td>\n",
       "    </tr>\n",
       "    <tr>\n",
       "      <th>954</th>\n",
       "      <td>Taking imagination seriously</td>\n",
       "      <td>735.525682</td>\n",
       "    </tr>\n",
       "    <tr>\n",
       "      <th>840</th>\n",
       "      <td>On reading the Koran</td>\n",
       "      <td>778.119629</td>\n",
       "    </tr>\n",
       "    <tr>\n",
       "      <th>876</th>\n",
       "      <td>Curating humanity's heritage</td>\n",
       "      <td>791.315315</td>\n",
       "    </tr>\n",
       "    <tr>\n",
       "      <th>1787</th>\n",
       "      <td>How do you explain consciousness?</td>\n",
       "      <td>809.114852</td>\n",
       "    </tr>\n",
       "    <tr>\n",
       "      <th>661</th>\n",
       "      <td>The danger of science denial</td>\n",
       "      <td>809.255282</td>\n",
       "    </tr>\n",
       "    <tr>\n",
       "      <th>561</th>\n",
       "      <td>Dance to change the world</td>\n",
       "      <td>809.805042</td>\n",
       "    </tr>\n",
       "  </tbody>\n",
       "</table>\n",
       "</div>"
      ],
      "text/plain": [
       "                                    title  views_per_comment\n",
       "744        The case for same-sex marriage         450.531587\n",
       "803                E-voting without fraud         651.739808\n",
       "96                       Militant atheism         683.134291\n",
       "694   Inside a school for suicide bombers         703.886818\n",
       "954          Taking imagination seriously         735.525682\n",
       "840                  On reading the Koran         778.119629\n",
       "876          Curating humanity's heritage         791.315315\n",
       "1787    How do you explain consciousness?         809.114852\n",
       "661          The danger of science denial         809.255282\n",
       "561             Dance to change the world         809.805042"
      ]
     },
     "execution_count": 12,
     "metadata": {},
     "output_type": "execute_result"
    }
   ],
   "source": [
    "# interpretation: 1 out of every 450 people leave a comment\n",
    "ted.loc[:,['title','views_per_comment']].sort_values(by='views_per_comment').head(10)"
   ]
  },
  {
   "cell_type": "markdown",
   "metadata": {},
   "source": [
    "## 3. Visualize the distribution of comments"
   ]
  },
  {
   "cell_type": "code",
   "execution_count": 13,
   "metadata": {},
   "outputs": [
    {
     "data": {
      "text/plain": [
       "<matplotlib.axes._subplots.AxesSubplot at 0x7f7e93b0add8>"
      ]
     },
     "execution_count": 13,
     "metadata": {},
     "output_type": "execute_result"
    },
    {
     "data": {
      "image/png": "[encoded data removed]",
      "text/plain": [
       "<Figure size 432x288 with 1 Axes>"
      ]
     },
     "metadata": {
      "needs_background": "light"
     },
     "output_type": "display_data"
    }
   ],
   "source": [
    "# line plot is not appropriate here (use it to measure something over time)\n",
    "ted.comments.plot()"
   ]
  },
  {
   "cell_type": "code",
   "execution_count": 14,
   "metadata": {},
   "outputs": [
    {
     "data": {
      "text/plain": [
       "<matplotlib.axes._subplots.AxesSubplot at 0x7f7e92ce3828>"
      ]
     },
     "execution_count": 14,
     "metadata": {},
     "output_type": "execute_result"
    },
    {
     "data": {
      "image/png": "[encoded data removed]",
      "text/plain": [
       "<Figure size 432x288 with 1 Axes>"
      ]
     },
     "metadata": {
      "needs_background": "light"
     },
     "output_type": "display_data"
    }
   ],
   "source": [
    "# histogram shows the frequency distribution of a single numeric variable\n",
    "ted.comments.plot(kind='hist')"
   ]
  },
  {
   "cell_type": "code",
   "execution_count": 15,
   "metadata": {},
   "outputs": [
    {
     "data": {
      "text/plain": [
       "<matplotlib.axes._subplots.AxesSubplot at 0x7f7e92cc0940>"
      ]
     },
     "execution_count": 15,
     "metadata": {},
     "output_type": "execute_result"
    },
    {
     "data": {
      "image/png": "[encoded data removed]",
      "text/plain": [
       "<Figure size 432x288 with 1 Axes>"
      ]
     },
     "metadata": {
      "needs_background": "light"
     },
     "output_type": "display_data"
    }
   ],
   "source": [
    "# modify the plot to be more informative\n",
    "ted[ted.comments < 1000].comments.plot(kind='hist')"
   ]
  },
  {
   "cell_type": "code",
   "execution_count": 16,
   "metadata": {},
   "outputs": [
    {
     "data": {
      "text/plain": [
       "(32, 19)"
      ]
     },
     "execution_count": 16,
     "metadata": {},
     "output_type": "execute_result"
    }
   ],
   "source": [
    "# check how many observations we removed from the plot\n",
    "ted[ted.comments >= 1000].shape"
   ]
  },
  {
   "cell_type": "code",
   "execution_count": 17,
   "metadata": {},
   "outputs": [
    {
     "data": {
      "text/plain": [
       "<matplotlib.axes._subplots.AxesSubplot at 0x7f7e92bef160>"
      ]
     },
     "execution_count": 17,
     "metadata": {},
     "output_type": "execute_result"
    },
    {
     "data": {
      "image/png": "[encoded data removed]",
      "text/plain": [
       "<Figure size 432x288 with 1 Axes>"
      ]
     },
     "metadata": {
      "needs_background": "light"
     },
     "output_type": "display_data"
    }
   ],
   "source": [
    "ted[ted.comments >= 1000].comments.plot(kind='hist')"
   ]
  },
  {
   "cell_type": "code",
   "execution_count": 18,
   "metadata": {},
   "outputs": [
    {
     "data": {
      "text/plain": [
       "<matplotlib.axes._subplots.AxesSubplot at 0x7f7e92bc0c18>"
      ]
     },
     "execution_count": 18,
     "metadata": {},
     "output_type": "execute_result"
    },
    {
     "data": {
      "image/png": "[encoded data removed]",
      "text/plain": [
       "<Figure size 432x288 with 1 Axes>"
      ]
     },
     "metadata": {
      "needs_background": "light"
     },
     "output_type": "display_data"
    }
   ],
   "source": [
    "# can also write this using the query method\n",
    "ted.query('comments < 1000').comments.plot(kind='hist')"
   ]
  },
  {
   "cell_type": "code",
   "execution_count": 19,
   "metadata": {},
   "outputs": [
    {
     "data": {
      "text/plain": [
       "<matplotlib.axes._subplots.AxesSubplot at 0x7f7e92b6b9e8>"
      ]
     },
     "execution_count": 19,
     "metadata": {},
     "output_type": "execute_result"
    },
    {
     "data": {
      "image/png": "[encoded data removed]",
      "text/plain": [
       "<Figure size 432x288 with 1 Axes>"
      ]
     },
     "metadata": {
      "needs_background": "light"
     },
     "output_type": "display_data"
    }
   ],
   "source": [
    "# can also write this using the loc accessor\n",
    "ted.loc[ted.comments < 1000, 'comments'].plot(kind='hist')"
   ]
  },
  {
   "cell_type": "code",
   "execution_count": 20,
   "metadata": {},
   "outputs": [
    {
     "data": {
      "text/plain": [
       "<matplotlib.axes._subplots.AxesSubplot at 0x7f7e92a53ba8>"
      ]
     },
     "execution_count": 20,
     "metadata": {},
     "output_type": "execute_result"
    },
    {
     "data": {
      "image/png": "[encoded data removed]",
      "text/plain": [
       "<Figure size 432x288 with 1 Axes>"
      ]
     },
     "metadata": {
      "needs_background": "light"
     },
     "output_type": "display_data"
    }
   ],
   "source": [
    "# increase the number of bins to see more detail\n",
    "ted.loc[ted.comments < 1000, 'comments'].plot(kind='hist', bins=20)"
   ]
  },
  {
   "cell_type": "code",
   "execution_count": 21,
   "metadata": {},
   "outputs": [
    {
     "data": {
      "text/plain": [
       "<matplotlib.axes._subplots.AxesSubplot at 0x7f7e929db358>"
      ]
     },
     "execution_count": 21,
     "metadata": {},
     "output_type": "execute_result"
    },
    {
     "data": {
      "image/png": "[encoded data removed]",
      "text/plain": [
       "<Figure size 720x576 with 1 Axes>"
      ]
     },
     "metadata": {
      "needs_background": "light"
     },
     "output_type": "display_data"
    }
   ],
   "source": [
    "# boxplot can also show distributions, but it's far less useful for concentrated distributions because of outliers\n",
    "ted.loc[ted.comments < 1000, 'comments'].plot(kind='box',figsize=(10,8))"
   ]
  },
  {
   "cell_type": "markdown",
   "metadata": {},
   "source": [
    "1. Choose your plot type based on the question you are answering and the data type(s) you are working with\n",
    "2. Use pandas one-liners to iterate through plots quickly\n",
    "3. Try modifying the plot defaults\n",
    "4. Creating plots involves decision-making"
   ]
  },
  {
   "cell_type": "markdown",
   "metadata": {},
   "source": [
    "## 4. Plot the number of talks that took place each year\n",
    "**Bonus exercise:** calculate the average delay between filming and publishing"
   ]
  },
  {
   "cell_type": "code",
   "execution_count": 22,
   "metadata": {},
   "outputs": [
    {
     "data": {
      "text/html": [
       "<div>\n",
       "<style scoped>\n",
       "    .dataframe tbody tr th:only-of-type {\n",
       "        vertical-align: middle;\n",
       "    }\n",
       "\n",
       "    .dataframe tbody tr th {\n",
       "        vertical-align: top;\n",
       "    }\n",
       "\n",
       "    .dataframe thead th {\n",
       "        text-align: right;\n",
       "    }\n",
       "</style>\n",
       "<table border=\"1\" class=\"dataframe\">\n",
       "  <thead>\n",
       "    <tr style=\"text-align: right;\">\n",
       "      <th></th>\n",
       "      <th>comments</th>\n",
       "      <th>description</th>\n",
       "      <th>duration</th>\n",
       "      <th>event</th>\n",
       "      <th>film_date</th>\n",
       "      <th>languages</th>\n",
       "      <th>main_speaker</th>\n",
       "      <th>name</th>\n",
       "      <th>num_speaker</th>\n",
       "      <th>published_date</th>\n",
       "      <th>ratings</th>\n",
       "      <th>related_talks</th>\n",
       "      <th>speaker_occupation</th>\n",
       "      <th>tags</th>\n",
       "      <th>title</th>\n",
       "      <th>url</th>\n",
       "      <th>views</th>\n",
       "      <th>comments_per_view</th>\n",
       "      <th>views_per_comment</th>\n",
       "    </tr>\n",
       "  </thead>\n",
       "  <tbody>\n",
       "    <tr>\n",
       "      <th>0</th>\n",
       "      <td>4553</td>\n",
       "      <td>Sir Ken Robinson makes an entertaining and pro...</td>\n",
       "      <td>1164</td>\n",
       "      <td>TED2006</td>\n",
       "      <td>1140825600</td>\n",
       "      <td>60</td>\n",
       "      <td>Ken Robinson</td>\n",
       "      <td>Ken Robinson: Do schools kill creativity?</td>\n",
       "      <td>1</td>\n",
       "      <td>1151367060</td>\n",
       "      <td>[{'id': 7, 'name': 'Funny', 'count': 19645}, {...</td>\n",
       "      <td>[{'id': 865, 'hero': 'https://pe.tedcdn.com/im...</td>\n",
       "      <td>Author/educator</td>\n",
       "      <td>['children', 'creativity', 'culture', 'dance',...</td>\n",
       "      <td>Do schools kill creativity?</td>\n",
       "      <td>https://www.ted.com/talks/ken_robinson_says_sc...</td>\n",
       "      <td>47227110</td>\n",
       "      <td>0.000096</td>\n",
       "      <td>10372.745443</td>\n",
       "    </tr>\n",
       "    <tr>\n",
       "      <th>1</th>\n",
       "      <td>265</td>\n",
       "      <td>With the same humor and humanity he exuded in ...</td>\n",
       "      <td>977</td>\n",
       "      <td>TED2006</td>\n",
       "      <td>1140825600</td>\n",
       "      <td>43</td>\n",
       "      <td>Al Gore</td>\n",
       "      <td>Al Gore: Averting the climate crisis</td>\n",
       "      <td>1</td>\n",
       "      <td>1151367060</td>\n",
       "      <td>[{'id': 7, 'name': 'Funny', 'count': 544}, {'i...</td>\n",
       "      <td>[{'id': 243, 'hero': 'https://pe.tedcdn.com/im...</td>\n",
       "      <td>Climate advocate</td>\n",
       "      <td>['alternative energy', 'cars', 'climate change...</td>\n",
       "      <td>Averting the climate crisis</td>\n",
       "      <td>https://www.ted.com/talks/al_gore_on_averting_...</td>\n",
       "      <td>3200520</td>\n",
       "      <td>0.000083</td>\n",
       "      <td>12077.433962</td>\n",
       "    </tr>\n",
       "    <tr>\n",
       "      <th>2</th>\n",
       "      <td>124</td>\n",
       "      <td>New York Times columnist David Pogue takes aim...</td>\n",
       "      <td>1286</td>\n",
       "      <td>TED2006</td>\n",
       "      <td>1140739200</td>\n",
       "      <td>26</td>\n",
       "      <td>David Pogue</td>\n",
       "      <td>David Pogue: Simplicity sells</td>\n",
       "      <td>1</td>\n",
       "      <td>1151367060</td>\n",
       "      <td>[{'id': 7, 'name': 'Funny', 'count': 964}, {'i...</td>\n",
       "      <td>[{'id': 1725, 'hero': 'https://pe.tedcdn.com/i...</td>\n",
       "      <td>Technology columnist</td>\n",
       "      <td>['computers', 'entertainment', 'interface desi...</td>\n",
       "      <td>Simplicity sells</td>\n",
       "      <td>https://www.ted.com/talks/david_pogue_says_sim...</td>\n",
       "      <td>1636292</td>\n",
       "      <td>0.000076</td>\n",
       "      <td>13195.903226</td>\n",
       "    </tr>\n",
       "    <tr>\n",
       "      <th>3</th>\n",
       "      <td>200</td>\n",
       "      <td>In an emotionally charged talk, MacArthur-winn...</td>\n",
       "      <td>1116</td>\n",
       "      <td>TED2006</td>\n",
       "      <td>1140912000</td>\n",
       "      <td>35</td>\n",
       "      <td>Majora Carter</td>\n",
       "      <td>Majora Carter: Greening the ghetto</td>\n",
       "      <td>1</td>\n",
       "      <td>1151367060</td>\n",
       "      <td>[{'id': 3, 'name': 'Courageous', 'count': 760}...</td>\n",
       "      <td>[{'id': 1041, 'hero': 'https://pe.tedcdn.com/i...</td>\n",
       "      <td>Activist for environmental justice</td>\n",
       "      <td>['MacArthur grant', 'activism', 'business', 'c...</td>\n",
       "      <td>Greening the ghetto</td>\n",
       "      <td>https://www.ted.com/talks/majora_carter_s_tale...</td>\n",
       "      <td>1697550</td>\n",
       "      <td>0.000118</td>\n",
       "      <td>8487.750000</td>\n",
       "    </tr>\n",
       "    <tr>\n",
       "      <th>4</th>\n",
       "      <td>593</td>\n",
       "      <td>You've never seen data presented like this. Wi...</td>\n",
       "      <td>1190</td>\n",
       "      <td>TED2006</td>\n",
       "      <td>1140566400</td>\n",
       "      <td>48</td>\n",
       "      <td>Hans Rosling</td>\n",
       "      <td>Hans Rosling: The best stats you've ever seen</td>\n",
       "      <td>1</td>\n",
       "      <td>1151440680</td>\n",
       "      <td>[{'id': 9, 'name': 'Ingenious', 'count': 3202}...</td>\n",
       "      <td>[{'id': 2056, 'hero': 'https://pe.tedcdn.com/i...</td>\n",
       "      <td>Global health expert; data visionary</td>\n",
       "      <td>['Africa', 'Asia', 'Google', 'demo', 'economic...</td>\n",
       "      <td>The best stats you've ever seen</td>\n",
       "      <td>https://www.ted.com/talks/hans_rosling_shows_t...</td>\n",
       "      <td>12005869</td>\n",
       "      <td>0.000049</td>\n",
       "      <td>20245.984823</td>\n",
       "    </tr>\n",
       "    <tr>\n",
       "      <th>5</th>\n",
       "      <td>672</td>\n",
       "      <td>Tony Robbins discusses the \"invisible forces\" ...</td>\n",
       "      <td>1305</td>\n",
       "      <td>TED2006</td>\n",
       "      <td>1138838400</td>\n",
       "      <td>36</td>\n",
       "      <td>Tony Robbins</td>\n",
       "      <td>Tony Robbins: Why we do what we do</td>\n",
       "      <td>1</td>\n",
       "      <td>1151440680</td>\n",
       "      <td>[{'id': 7, 'name': 'Funny', 'count': 1102}, {'...</td>\n",
       "      <td>[{'id': 229, 'hero': 'https://pe.tedcdn.com/im...</td>\n",
       "      <td>Life coach; expert in leadership psychology</td>\n",
       "      <td>['business', 'culture', 'entertainment', 'goal...</td>\n",
       "      <td>Why we do what we do</td>\n",
       "      <td>https://www.ted.com/talks/tony_robbins_asks_wh...</td>\n",
       "      <td>20685401</td>\n",
       "      <td>0.000032</td>\n",
       "      <td>30781.846726</td>\n",
       "    </tr>\n",
       "    <tr>\n",
       "      <th>6</th>\n",
       "      <td>919</td>\n",
       "      <td>When two young Mormon missionaries knock on Ju...</td>\n",
       "      <td>992</td>\n",
       "      <td>TED2006</td>\n",
       "      <td>1140739200</td>\n",
       "      <td>31</td>\n",
       "      <td>Julia Sweeney</td>\n",
       "      <td>Julia Sweeney: Letting go of God</td>\n",
       "      <td>1</td>\n",
       "      <td>1152490260</td>\n",
       "      <td>[{'id': 3, 'name': 'Courageous', 'count': 477}...</td>\n",
       "      <td>[{'id': 22, 'hero': 'https://pe.tedcdn.com/ima...</td>\n",
       "      <td>Actor, comedian, playwright</td>\n",
       "      <td>['Christianity', 'God', 'atheism', 'comedy', '...</td>\n",
       "      <td>Letting go of God</td>\n",
       "      <td>https://www.ted.com/talks/julia_sweeney_on_let...</td>\n",
       "      <td>3769987</td>\n",
       "      <td>0.000244</td>\n",
       "      <td>4102.270947</td>\n",
       "    </tr>\n",
       "    <tr>\n",
       "      <th>7</th>\n",
       "      <td>46</td>\n",
       "      <td>Architect Joshua Prince-Ramus takes the audien...</td>\n",
       "      <td>1198</td>\n",
       "      <td>TED2006</td>\n",
       "      <td>1140652800</td>\n",
       "      <td>19</td>\n",
       "      <td>Joshua Prince-Ramus</td>\n",
       "      <td>Joshua Prince-Ramus: Behind the design of Seat...</td>\n",
       "      <td>1</td>\n",
       "      <td>1152490260</td>\n",
       "      <td>[{'id': 9, 'name': 'Ingenious', 'count': 195},...</td>\n",
       "      <td>[{'id': 750, 'hero': 'https://pe.tedcdn.com/im...</td>\n",
       "      <td>Architect</td>\n",
       "      <td>['architecture', 'collaboration', 'culture', '...</td>\n",
       "      <td>Behind the design of Seattle's library</td>\n",
       "      <td>https://www.ted.com/talks/joshua_prince_ramus_...</td>\n",
       "      <td>967741</td>\n",
       "      <td>0.000048</td>\n",
       "      <td>21037.847826</td>\n",
       "    </tr>\n",
       "    <tr>\n",
       "      <th>8</th>\n",
       "      <td>852</td>\n",
       "      <td>Philosopher Dan Dennett calls for religion -- ...</td>\n",
       "      <td>1485</td>\n",
       "      <td>TED2006</td>\n",
       "      <td>1138838400</td>\n",
       "      <td>32</td>\n",
       "      <td>Dan Dennett</td>\n",
       "      <td>Dan Dennett: Let's teach religion -- all relig...</td>\n",
       "      <td>1</td>\n",
       "      <td>1153181460</td>\n",
       "      <td>[{'id': 3, 'name': 'Courageous', 'count': 562}...</td>\n",
       "      <td>[{'id': 71, 'hero': 'https://pe.tedcdn.com/ima...</td>\n",
       "      <td>Philosopher, cognitive scientist</td>\n",
       "      <td>['God', 'TED Brain Trust', 'atheism', 'brain',...</td>\n",
       "      <td>Let's teach religion -- all religion -- in sch...</td>\n",
       "      <td>https://www.ted.com/talks/dan_dennett_s_respon...</td>\n",
       "      <td>2567958</td>\n",
       "      <td>0.000332</td>\n",
       "      <td>3014.035211</td>\n",
       "    </tr>\n",
       "    <tr>\n",
       "      <th>9</th>\n",
       "      <td>900</td>\n",
       "      <td>Pastor Rick Warren, author of \"The Purpose-Dri...</td>\n",
       "      <td>1262</td>\n",
       "      <td>TED2006</td>\n",
       "      <td>1140825600</td>\n",
       "      <td>31</td>\n",
       "      <td>Rick Warren</td>\n",
       "      <td>Rick Warren: A life of purpose</td>\n",
       "      <td>1</td>\n",
       "      <td>1153181460</td>\n",
       "      <td>[{'id': 21, 'name': 'Unconvincing', 'count': 8...</td>\n",
       "      <td>[{'id': 94, 'hero': 'https://pe.tedcdn.com/ima...</td>\n",
       "      <td>Pastor, author</td>\n",
       "      <td>['Christianity', 'God', 'culture', 'happiness'...</td>\n",
       "      <td>A life of purpose</td>\n",
       "      <td>https://www.ted.com/talks/rick_warren_on_a_lif...</td>\n",
       "      <td>3095993</td>\n",
       "      <td>0.000291</td>\n",
       "      <td>3439.992222</td>\n",
       "    </tr>\n",
       "  </tbody>\n",
       "</table>\n",
       "</div>"
      ],
      "text/plain": [
       "   comments                                        description  duration  \\\n",
       "0      4553  Sir Ken Robinson makes an entertaining and pro...      1164   \n",
       "1       265  With the same humor and humanity he exuded in ...       977   \n",
       "2       124  New York Times columnist David Pogue takes aim...      1286   \n",
       "3       200  In an emotionally charged talk, MacArthur-winn...      1116   \n",
       "4       593  You've never seen data presented like this. Wi...      1190   \n",
       "5       672  Tony Robbins discusses the \"invisible forces\" ...      1305   \n",
       "6       919  When two young Mormon missionaries knock on Ju...       992   \n",
       "7        46  Architect Joshua Prince-Ramus takes the audien...      1198   \n",
       "8       852  Philosopher Dan Dennett calls for religion -- ...      1485   \n",
       "9       900  Pastor Rick Warren, author of \"The Purpose-Dri...      1262   \n",
       "\n",
       "     event   film_date  languages         main_speaker  \\\n",
       "0  TED2006  1140825600         60         Ken Robinson   \n",
       "1  TED2006  1140825600         43              Al Gore   \n",
       "2  TED2006  1140739200         26          David Pogue   \n",
       "3  TED2006  1140912000         35        Majora Carter   \n",
       "4  TED2006  1140566400         48         Hans Rosling   \n",
       "5  TED2006  1138838400         36         Tony Robbins   \n",
       "6  TED2006  1140739200         31        Julia Sweeney   \n",
       "7  TED2006  1140652800         19  Joshua Prince-Ramus   \n",
       "8  TED2006  1138838400         32          Dan Dennett   \n",
       "9  TED2006  1140825600         31          Rick Warren   \n",
       "\n",
       "                                                name  num_speaker  \\\n",
       "0          Ken Robinson: Do schools kill creativity?            1   \n",
       "1               Al Gore: Averting the climate crisis            1   \n",
       "2                      David Pogue: Simplicity sells            1   \n",
       "3                 Majora Carter: Greening the ghetto            1   \n",
       "4      Hans Rosling: The best stats you've ever seen            1   \n",
       "5                 Tony Robbins: Why we do what we do            1   \n",
       "6                   Julia Sweeney: Letting go of God            1   \n",
       "7  Joshua Prince-Ramus: Behind the design of Seat...            1   \n",
       "8  Dan Dennett: Let's teach religion -- all relig...            1   \n",
       "9                     Rick Warren: A life of purpose            1   \n",
       "\n",
       "   published_date                                            ratings  \\\n",
       "0      1151367060  [{'id': 7, 'name': 'Funny', 'count': 19645}, {...   \n",
       "1      1151367060  [{'id': 7, 'name': 'Funny', 'count': 544}, {'i...   \n",
       "2      1151367060  [{'id': 7, 'name': 'Funny', 'count': 964}, {'i...   \n",
       "3      1151367060  [{'id': 3, 'name': 'Courageous', 'count': 760}...   \n",
       "4      1151440680  [{'id': 9, 'name': 'Ingenious', 'count': 3202}...   \n",
       "5      1151440680  [{'id': 7, 'name': 'Funny', 'count': 1102}, {'...   \n",
       "6      1152490260  [{'id': 3, 'name': 'Courageous', 'count': 477}...   \n",
       "7      1152490260  [{'id': 9, 'name': 'Ingenious', 'count': 195},...   \n",
       "8      1153181460  [{'id': 3, 'name': 'Courageous', 'count': 562}...   \n",
       "9      1153181460  [{'id': 21, 'name': 'Unconvincing', 'count': 8...   \n",
       "\n",
       "                                       related_talks  \\\n",
       "0  [{'id': 865, 'hero': 'https://pe.tedcdn.com/im...   \n",
       "1  [{'id': 243, 'hero': 'https://pe.tedcdn.com/im...   \n",
       "2  [{'id': 1725, 'hero': 'https://pe.tedcdn.com/i...   \n",
       "3  [{'id': 1041, 'hero': 'https://pe.tedcdn.com/i...   \n",
       "4  [{'id': 2056, 'hero': 'https://pe.tedcdn.com/i...   \n",
       "5  [{'id': 229, 'hero': 'https://pe.tedcdn.com/im...   \n",
       "6  [{'id': 22, 'hero': 'https://pe.tedcdn.com/ima...   \n",
       "7  [{'id': 750, 'hero': 'https://pe.tedcdn.com/im...   \n",
       "8  [{'id': 71, 'hero': 'https://pe.tedcdn.com/ima...   \n",
       "9  [{'id': 94, 'hero': 'https://pe.tedcdn.com/ima...   \n",
       "\n",
       "                            speaker_occupation  \\\n",
       "0                              Author/educator   \n",
       "1                             Climate advocate   \n",
       "2                         Technology columnist   \n",
       "3           Activist for environmental justice   \n",
       "4         Global health expert; data visionary   \n",
       "5  Life coach; expert in leadership psychology   \n",
       "6                  Actor, comedian, playwright   \n",
       "7                                    Architect   \n",
       "8             Philosopher, cognitive scientist   \n",
       "9                               Pastor, author   \n",
       "\n",
       "                                                tags  \\\n",
       "0  ['children', 'creativity', 'culture', 'dance',...   \n",
       "1  ['alternative energy', 'cars', 'climate change...   \n",
       "2  ['computers', 'entertainment', 'interface desi...   \n",
       "3  ['MacArthur grant', 'activism', 'business', 'c...   \n",
       "4  ['Africa', 'Asia', 'Google', 'demo', 'economic...   \n",
       "5  ['business', 'culture', 'entertainment', 'goal...   \n",
       "6  ['Christianity', 'God', 'atheism', 'comedy', '...   \n",
       "7  ['architecture', 'collaboration', 'culture', '...   \n",
       "8  ['God', 'TED Brain Trust', 'atheism', 'brain',...   \n",
       "9  ['Christianity', 'God', 'culture', 'happiness'...   \n",
       "\n",
       "                                               title  \\\n",
       "0                        Do schools kill creativity?   \n",
       "1                        Averting the climate crisis   \n",
       "2                                   Simplicity sells   \n",
       "3                                Greening the ghetto   \n",
       "4                    The best stats you've ever seen   \n",
       "5                               Why we do what we do   \n",
       "6                                  Letting go of God   \n",
       "7             Behind the design of Seattle's library   \n",
       "8  Let's teach religion -- all religion -- in sch...   \n",
       "9                                  A life of purpose   \n",
       "\n",
       "                                                 url     views  \\\n",
       "0  https://www.ted.com/talks/ken_robinson_says_sc...  47227110   \n",
       "1  https://www.ted.com/talks/al_gore_on_averting_...   3200520   \n",
       "2  https://www.ted.com/talks/david_pogue_says_sim...   1636292   \n",
       "3  https://www.ted.com/talks/majora_carter_s_tale...   1697550   \n",
       "4  https://www.ted.com/talks/hans_rosling_shows_t...  12005869   \n",
       "5  https://www.ted.com/talks/tony_robbins_asks_wh...  20685401   \n",
       "6  https://www.ted.com/talks/julia_sweeney_on_let...   3769987   \n",
       "7  https://www.ted.com/talks/joshua_prince_ramus_...    967741   \n",
       "8  https://www.ted.com/talks/dan_dennett_s_respon...   2567958   \n",
       "9  https://www.ted.com/talks/rick_warren_on_a_lif...   3095993   \n",
       "\n",
       "   comments_per_view  views_per_comment  \n",
       "0           0.000096       10372.745443  \n",
       "1           0.000083       12077.433962  \n",
       "2           0.000076       13195.903226  \n",
       "3           0.000118        8487.750000  \n",
       "4           0.000049       20245.984823  \n",
       "5           0.000032       30781.846726  \n",
       "6           0.000244        4102.270947  \n",
       "7           0.000048       21037.847826  \n",
       "8           0.000332        3014.035211  \n",
       "9           0.000291        3439.992222  "
      ]
     },
     "execution_count": 22,
     "metadata": {},
     "output_type": "execute_result"
    }
   ],
   "source": [
    "ted.head(10)"
   ]
  },
  {
   "cell_type": "code",
   "execution_count": 23,
   "metadata": {},
   "outputs": [
    {
     "data": {
      "text/plain": [
       "TED2014                          84\n",
       "TED2009                          83\n",
       "TED2016                          77\n",
       "TED2013                          77\n",
       "TED2015                          75\n",
       "TED2011                          70\n",
       "TEDGlobal 2012                   70\n",
       "TED2007                          68\n",
       "TED2010                          68\n",
       "TEDGlobal 2011                   68\n",
       "TED2017                          67\n",
       "TEDGlobal 2013                   66\n",
       "TEDGlobal 2009                   65\n",
       "TED2012                          65\n",
       "TED2008                          57\n",
       "TEDGlobal 2010                   55\n",
       "TEDGlobal 2014                   51\n",
       "TED2006                          45\n",
       "TED2005                          37\n",
       "TEDIndia 2009                    35\n",
       "TEDSummit                        34\n",
       "TEDWomen 2010                    34\n",
       "TED2003                          34\n",
       "TED2004                          31\n",
       "TEDWomen 2015                    28\n",
       "TED2002                          28\n",
       "TEDGlobal 2007                   27\n",
       "TEDGlobal 2005                   26\n",
       "TEDWomen 2016                    25\n",
       "TEDxBeaconStreet                 22\n",
       "                                 ..\n",
       "TEDxCrenshaw                      1\n",
       "TEDxABQ                           1\n",
       "TEDxSBU                           1\n",
       "TEDxSussexUniversity              1\n",
       "TED@Nairobi                       1\n",
       "TEDxColumbusWomen                 1\n",
       "TEDxSeoul                         1\n",
       "TEDxMonterey                      1\n",
       "TEDxSantaCruz                     1\n",
       "DLD 2007                          1\n",
       "Elizabeth G. Anderson School      1\n",
       "TEDxEQChCh                        1\n",
       "TEDxGrandRapids                   1\n",
       "TED@London                        1\n",
       "TEDNairobi Ideas Search           1\n",
       "AORN Congress                     1\n",
       "TEDxPennsylvaniaAvenue            1\n",
       "Princeton University              1\n",
       "TEDxCannes                        1\n",
       "TEDxZurich 2013                   1\n",
       "TEDxMonroeCorrectionalComplex     1\n",
       "TEDYouth 2012                     1\n",
       "TEDxUdeM                          1\n",
       "TED@Bangalore                     1\n",
       "TEDxPittsburgh                    1\n",
       "TEDxO'Porto                       1\n",
       "TEDxSanJoseCA                     1\n",
       "TEDxSanQuentin                    1\n",
       "Bowery Poetry Club                1\n",
       "TEDxUF                            1\n",
       "Name: event, Length: 355, dtype: int64"
      ]
     },
     "execution_count": 23,
     "metadata": {},
     "output_type": "execute_result"
    }
   ],
   "source": [
    "# No. of talks in each events\n",
    "ted.event.value_counts()"
   ]
  },
  {
   "cell_type": "code",
   "execution_count": 24,
   "metadata": {
    "scrolled": true
   },
   "outputs": [
    {
     "data": {
      "text/plain": [
       "0       1140825600\n",
       "1       1140825600\n",
       "2       1140739200\n",
       "3       1140912000\n",
       "4       1140566400\n",
       "5       1138838400\n",
       "6       1140739200\n",
       "7       1140652800\n",
       "8       1138838400\n",
       "9       1140825600\n",
       "10      1140912000\n",
       "11      1140912000\n",
       "12      1140652800\n",
       "13      1139184000\n",
       "14      1140652800\n",
       "15      1140652800\n",
       "16      1077753600\n",
       "17      1140739200\n",
       "18      1109289600\n",
       "19      1121299200\n",
       "20      1140652800\n",
       "21      1077580800\n",
       "22      1140652800\n",
       "23      1140739200\n",
       "24      1075852800\n",
       "25      1121299200\n",
       "26      1120694400\n",
       "27      1077840000\n",
       "28      1077753600\n",
       "29      1075680000\n",
       "           ...    \n",
       "2520    1492992000\n",
       "2521    1461456000\n",
       "2522    1492992000\n",
       "2523    1475884800\n",
       "2524    1492992000\n",
       "2525    1464048000\n",
       "2526    1492992000\n",
       "2527    1492905600\n",
       "2528    1465344000\n",
       "2529    1429833600\n",
       "2530    1492992000\n",
       "2531    1466208000\n",
       "2532    1492992000\n",
       "2533    1492992000\n",
       "2534    1491523200\n",
       "2535    1503792000\n",
       "2536    1499472000\n",
       "2537    1492992000\n",
       "2538    1478822400\n",
       "2539    1503792000\n",
       "2540    1500508800\n",
       "2541    1487462400\n",
       "2542    1503792000\n",
       "2543    1492992000\n",
       "2544    1503792000\n",
       "2545    1496707200\n",
       "2546    1492992000\n",
       "2547    1492992000\n",
       "2548    1499472000\n",
       "2549    1492992000\n",
       "Name: film_date, Length: 2550, dtype: int64"
      ]
     },
     "execution_count": 24,
     "metadata": {},
     "output_type": "execute_result"
    }
   ],
   "source": [
    "# date is in unix format\n",
    "ted.film_date"
   ]
  },
  {
   "cell_type": "code",
   "execution_count": 25,
   "metadata": {},
   "outputs": [
    {
     "data": {
      "text/plain": [
       "0      2006-02-25\n",
       "1      2006-02-25\n",
       "2      2006-02-24\n",
       "3      2006-02-26\n",
       "4      2006-02-22\n",
       "5      2006-02-02\n",
       "6      2006-02-24\n",
       "7      2006-02-23\n",
       "8      2006-02-02\n",
       "9      2006-02-25\n",
       "10     2006-02-26\n",
       "11     2006-02-26\n",
       "12     2006-02-23\n",
       "13     2006-02-06\n",
       "14     2006-02-23\n",
       "15     2006-02-23\n",
       "16     2004-02-26\n",
       "17     2006-02-24\n",
       "18     2005-02-25\n",
       "19     2005-07-14\n",
       "20     2006-02-23\n",
       "21     2004-02-24\n",
       "22     2006-02-23\n",
       "23     2006-02-24\n",
       "24     2004-02-04\n",
       "25     2005-07-14\n",
       "26     2005-07-07\n",
       "27     2004-02-27\n",
       "28     2004-02-26\n",
       "29     2004-02-02\n",
       "          ...    \n",
       "2520   2017-04-24\n",
       "2521   2016-04-24\n",
       "2522   2017-04-24\n",
       "2523   2016-10-08\n",
       "2524   2017-04-24\n",
       "2525   2016-05-24\n",
       "2526   2017-04-24\n",
       "2527   2017-04-23\n",
       "2528   2016-06-08\n",
       "2529   2015-04-24\n",
       "2530   2017-04-24\n",
       "2531   2016-06-18\n",
       "2532   2017-04-24\n",
       "2533   2017-04-24\n",
       "2534   2017-04-07\n",
       "2535   2017-08-27\n",
       "2536   2017-07-08\n",
       "2537   2017-04-24\n",
       "2538   2016-11-11\n",
       "2539   2017-08-27\n",
       "2540   2017-07-20\n",
       "2541   2017-02-19\n",
       "2542   2017-08-27\n",
       "2543   2017-04-24\n",
       "2544   2017-08-27\n",
       "2545   2017-06-06\n",
       "2546   2017-04-24\n",
       "2547   2017-04-24\n",
       "2548   2017-07-08\n",
       "2549   2017-04-24\n",
       "Name: film_date, Length: 2550, dtype: datetime64[ns]"
      ]
     },
     "execution_count": 25,
     "metadata": {},
     "output_type": "execute_result"
    }
   ],
   "source": [
    "# convert it to the required format\n",
    "pd.to_datetime(ted.film_date,unit='s')"
   ]
  },
  {
   "cell_type": "code",
   "execution_count": 26,
   "metadata": {},
   "outputs": [
    {
     "data": {
      "text/plain": [
       "1972      1\n",
       "1983      1\n",
       "1984      1\n",
       "1990      1\n",
       "1991      1\n",
       "1994      1\n",
       "1998      6\n",
       "2001      5\n",
       "2002     27\n",
       "2003     33\n",
       "2004     33\n",
       "2005     66\n",
       "2006     50\n",
       "2007    114\n",
       "2008     84\n",
       "2009    232\n",
       "2010    267\n",
       "2011    270\n",
       "2012    267\n",
       "2013    270\n",
       "2014    237\n",
       "2015    239\n",
       "2016    246\n",
       "2017     98\n",
       "Name: film_date, dtype: int64"
      ]
     },
     "execution_count": 26,
     "metadata": {},
     "output_type": "execute_result"
    }
   ],
   "source": [
    "# For each year, calculating the no. of talks\n",
    "pd.to_datetime(ted.film_date,unit='s').dt.year.value_counts().sort_index()"
   ]
  },
  {
   "cell_type": "code",
   "execution_count": 27,
   "metadata": {},
   "outputs": [
    {
     "data": {
      "text/plain": [
       "<matplotlib.axes._subplots.AxesSubplot at 0x7f7e929b6d30>"
      ]
     },
     "execution_count": 27,
     "metadata": {},
     "output_type": "execute_result"
    },
    {
     "data": {
      "image/png": "[encoded data removed]",
      "text/plain": [
       "<Figure size 432x288 with 1 Axes>"
      ]
     },
     "metadata": {
      "needs_background": "light"
     },
     "output_type": "display_data"
    }
   ],
   "source": [
    "# plotting\n",
    "pd.to_datetime(ted.film_date,unit='s').dt.year.value_counts().sort_index().plot()"
   ]
  },
  {
   "cell_type": "code",
   "execution_count": 28,
   "metadata": {},
   "outputs": [
    {
     "data": {
      "text/plain": [
       "Timedelta('249 days 23:21:53.703529')"
      ]
     },
     "execution_count": 28,
     "metadata": {},
     "output_type": "execute_result"
    }
   ],
   "source": [
    "# average delay between filming and publishing\n",
    "(pd.to_datetime(ted.published_date,unit='s')-(pd.to_datetime(ted.film_date,unit='s'))).mean()"
   ]
  },
  {
   "cell_type": "markdown",
   "metadata": {},
   "source": [
    "## 5. What were the \"best\" events in TED history to attend?"
   ]
  },
  {
   "cell_type": "code",
   "execution_count": 29,
   "metadata": {},
   "outputs": [
    {
     "data": {
      "text/plain": [
       "TED2014           84\n",
       "TED2009           83\n",
       "TED2016           77\n",
       "TED2013           77\n",
       "TED2015           75\n",
       "TED2011           70\n",
       "TEDGlobal 2012    70\n",
       "TED2007           68\n",
       "TED2010           68\n",
       "TEDGlobal 2011    68\n",
       "Name: event, dtype: int64"
      ]
     },
     "execution_count": 29,
     "metadata": {},
     "output_type": "execute_result"
    }
   ],
   "source": [
    "# best events by no. of talks\n",
    "ted.event.value_counts().head(10)"
   ]
  },
  {
   "cell_type": "code",
   "execution_count": 30,
   "metadata": {
    "scrolled": true
   },
   "outputs": [
    {
     "data": {
      "text/plain": [
       "event\n",
       "TEDxPuget Sound            34309432.0\n",
       "TEDxHouston                16140250.5\n",
       "TEDxBloomington             9484259.5\n",
       "TEDxCreativeCoast           8444981.0\n",
       "TEDxNorrkoping              6569493.0\n",
       "TEDxUW                      5917201.0\n",
       "TEDxLinnaeusUniversity      4984884.0\n",
       "TEDxGoldenGatePark 2012     4811180.0\n",
       "TEDxCHUV                    4682458.0\n",
       "Stanford University         4658636.5\n",
       "Name: views, dtype: float64"
      ]
     },
     "execution_count": 30,
     "metadata": {},
     "output_type": "execute_result"
    }
   ],
   "source": [
    "# best events by total no. of views\n",
    "ted.groupby(ted.event).views.mean().sort_values(ascending=False).head(10)"
   ]
  },
  {
   "cell_type": "code",
   "execution_count": 31,
   "metadata": {},
   "outputs": [
    {
     "data": {
      "text/plain": [
       "event\n",
       "TEDxPuget Sound                1930.0\n",
       "TEDxHouston                    1058.0\n",
       "TEDxUW                          939.0\n",
       "TEDxFiDiWomen                   921.0\n",
       "Stanford University             915.5\n",
       "TEDxJaffa 2012                  810.0\n",
       "TEDxVictoria                    775.0\n",
       "TEDxNextGenerationAsheville     767.0\n",
       "TEDxRainier                     750.2\n",
       "TEDxEdmonton                    683.0\n",
       "Name: comments, dtype: float64"
      ]
     },
     "execution_count": 31,
     "metadata": {},
     "output_type": "execute_result"
    }
   ],
   "source": [
    "# best events by total no. of comments\n",
    "ted.groupby(ted.event).comments.mean().sort_values(ascending=False).head(10)"
   ]
  },
  {
   "cell_type": "code",
   "execution_count": 32,
   "metadata": {},
   "outputs": [
    {
     "data": {
      "text/html": [
       "<div>\n",
       "<style scoped>\n",
       "    .dataframe tbody tr th:only-of-type {\n",
       "        vertical-align: middle;\n",
       "    }\n",
       "\n",
       "    .dataframe tbody tr th {\n",
       "        vertical-align: top;\n",
       "    }\n",
       "\n",
       "    .dataframe thead th {\n",
       "        text-align: right;\n",
       "    }\n",
       "</style>\n",
       "<table border=\"1\" class=\"dataframe\">\n",
       "  <thead>\n",
       "    <tr style=\"text-align: right;\">\n",
       "      <th></th>\n",
       "      <th>count</th>\n",
       "      <th>mean</th>\n",
       "    </tr>\n",
       "    <tr>\n",
       "      <th>event</th>\n",
       "      <th></th>\n",
       "      <th></th>\n",
       "    </tr>\n",
       "  </thead>\n",
       "  <tbody>\n",
       "    <tr>\n",
       "      <th>TEDxPuget Sound</th>\n",
       "      <td>1</td>\n",
       "      <td>34309432.0</td>\n",
       "    </tr>\n",
       "    <tr>\n",
       "      <th>TEDxHouston</th>\n",
       "      <td>2</td>\n",
       "      <td>16140250.5</td>\n",
       "    </tr>\n",
       "    <tr>\n",
       "      <th>TEDxBloomington</th>\n",
       "      <td>2</td>\n",
       "      <td>9484259.5</td>\n",
       "    </tr>\n",
       "    <tr>\n",
       "      <th>TEDxCreativeCoast</th>\n",
       "      <td>1</td>\n",
       "      <td>8444981.0</td>\n",
       "    </tr>\n",
       "    <tr>\n",
       "      <th>TEDxNorrkoping</th>\n",
       "      <td>1</td>\n",
       "      <td>6569493.0</td>\n",
       "    </tr>\n",
       "  </tbody>\n",
       "</table>\n",
       "</div>"
      ],
      "text/plain": [
       "                   count        mean\n",
       "event                               \n",
       "TEDxPuget Sound        1  34309432.0\n",
       "TEDxHouston            2  16140250.5\n",
       "TEDxBloomington        2   9484259.5\n",
       "TEDxCreativeCoast      1   8444981.0\n",
       "TEDxNorrkoping         1   6569493.0"
      ]
     },
     "execution_count": 32,
     "metadata": {},
     "output_type": "execute_result"
    }
   ],
   "source": [
    "# show the number of talks along with the mean (events with the highest means had only 1 or 2 talks)\n",
    "ted.groupby('event').views.agg(['count', 'mean']).sort_values('mean',ascending=False).head()"
   ]
  },
  {
   "cell_type": "code",
   "execution_count": 33,
   "metadata": {},
   "outputs": [
    {
     "data": {
      "text/plain": [
       "event\n",
       "New York State Senate           450.531587\n",
       "TEDxSussexUniversity            838.105769\n",
       "TEDxVictoria                   1022.940645\n",
       "TEDxSantaCruz                  1131.559055\n",
       "TEDxWaterloo                   1176.372881\n",
       "DICE Summit 2010               1220.546196\n",
       "Fort Worth City Council        1238.542222\n",
       "TEDxSanMigueldeAllende         1278.710801\n",
       "Justice with Michael Sandel    1281.625407\n",
       "Web 2.0 Expo 2008              1362.933453\n",
       "Name: views_per_comment, dtype: float64"
      ]
     },
     "execution_count": 33,
     "metadata": {},
     "output_type": "execute_result"
    }
   ],
   "source": [
    "# best events by total no. of views_per_comment\n",
    "ted.groupby(ted.event).views_per_comment.mean().sort_values().head(10)"
   ]
  },
  {
   "cell_type": "code",
   "execution_count": 34,
   "metadata": {},
   "outputs": [
    {
     "data": {
      "text/html": [
       "<div>\n",
       "<style scoped>\n",
       "    .dataframe tbody tr th:only-of-type {\n",
       "        vertical-align: middle;\n",
       "    }\n",
       "\n",
       "    .dataframe tbody tr th {\n",
       "        vertical-align: top;\n",
       "    }\n",
       "\n",
       "    .dataframe thead th {\n",
       "        text-align: right;\n",
       "    }\n",
       "</style>\n",
       "<table border=\"1\" class=\"dataframe\">\n",
       "  <thead>\n",
       "    <tr style=\"text-align: right;\">\n",
       "      <th></th>\n",
       "      <th>count</th>\n",
       "      <th>mean</th>\n",
       "      <th>sum</th>\n",
       "    </tr>\n",
       "    <tr>\n",
       "      <th>event</th>\n",
       "      <th></th>\n",
       "      <th></th>\n",
       "      <th></th>\n",
       "    </tr>\n",
       "  </thead>\n",
       "  <tbody>\n",
       "    <tr>\n",
       "      <th>TED2013</th>\n",
       "      <td>77</td>\n",
       "      <td>2.302700e+06</td>\n",
       "      <td>177307937</td>\n",
       "    </tr>\n",
       "    <tr>\n",
       "      <th>TED2014</th>\n",
       "      <td>84</td>\n",
       "      <td>2.072874e+06</td>\n",
       "      <td>174121423</td>\n",
       "    </tr>\n",
       "    <tr>\n",
       "      <th>TEDGlobal 2013</th>\n",
       "      <td>66</td>\n",
       "      <td>2.584163e+06</td>\n",
       "      <td>170554736</td>\n",
       "    </tr>\n",
       "    <tr>\n",
       "      <th>TED2015</th>\n",
       "      <td>75</td>\n",
       "      <td>2.011017e+06</td>\n",
       "      <td>150826305</td>\n",
       "    </tr>\n",
       "    <tr>\n",
       "      <th>TED2006</th>\n",
       "      <td>45</td>\n",
       "      <td>3.274345e+06</td>\n",
       "      <td>147345533</td>\n",
       "    </tr>\n",
       "    <tr>\n",
       "      <th>TED2009</th>\n",
       "      <td>83</td>\n",
       "      <td>1.754896e+06</td>\n",
       "      <td>145656385</td>\n",
       "    </tr>\n",
       "    <tr>\n",
       "      <th>TEDGlobal 2012</th>\n",
       "      <td>70</td>\n",
       "      <td>2.072436e+06</td>\n",
       "      <td>145070549</td>\n",
       "    </tr>\n",
       "    <tr>\n",
       "      <th>TED2012</th>\n",
       "      <td>65</td>\n",
       "      <td>2.223040e+06</td>\n",
       "      <td>144497608</td>\n",
       "    </tr>\n",
       "    <tr>\n",
       "      <th>TED2016</th>\n",
       "      <td>77</td>\n",
       "      <td>1.812622e+06</td>\n",
       "      <td>139571905</td>\n",
       "    </tr>\n",
       "    <tr>\n",
       "      <th>TED2011</th>\n",
       "      <td>70</td>\n",
       "      <td>1.967864e+06</td>\n",
       "      <td>137750504</td>\n",
       "    </tr>\n",
       "  </tbody>\n",
       "</table>\n",
       "</div>"
      ],
      "text/plain": [
       "                count          mean        sum\n",
       "event                                         \n",
       "TED2013            77  2.302700e+06  177307937\n",
       "TED2014            84  2.072874e+06  174121423\n",
       "TEDGlobal 2013     66  2.584163e+06  170554736\n",
       "TED2015            75  2.011017e+06  150826305\n",
       "TED2006            45  3.274345e+06  147345533\n",
       "TED2009            83  1.754896e+06  145656385\n",
       "TEDGlobal 2012     70  2.072436e+06  145070549\n",
       "TED2012            65  2.223040e+06  144497608\n",
       "TED2016            77  1.812622e+06  139571905\n",
       "TED2011            70  1.967864e+06  137750504"
      ]
     },
     "execution_count": 34,
     "metadata": {},
     "output_type": "execute_result"
    }
   ],
   "source": [
    "# calculate the total views per event\n",
    "ted.groupby('event').views.agg(['count','mean','sum']).sort_values(by='sum',ascending=False).head(10)"
   ]
  },
  {
   "cell_type": "markdown",
   "metadata": {},
   "source": [
    "## 6. Unpack the ratings data"
   ]
  },
  {
   "cell_type": "code",
   "execution_count": 35,
   "metadata": {},
   "outputs": [
    {
     "data": {
      "text/plain": [
       "0    [{'id': 7, 'name': 'Funny', 'count': 19645}, {...\n",
       "1    [{'id': 7, 'name': 'Funny', 'count': 544}, {'i...\n",
       "2    [{'id': 7, 'name': 'Funny', 'count': 964}, {'i...\n",
       "3    [{'id': 3, 'name': 'Courageous', 'count': 760}...\n",
       "4    [{'id': 9, 'name': 'Ingenious', 'count': 3202}...\n",
       "Name: ratings, dtype: object"
      ]
     },
     "execution_count": 35,
     "metadata": {},
     "output_type": "execute_result"
    }
   ],
   "source": [
    "ted.ratings.head()"
   ]
  },
  {
   "cell_type": "code",
   "execution_count": 36,
   "metadata": {},
   "outputs": [
    {
     "data": {
      "text/plain": [
       "\"[{'id': 7, 'name': 'Funny', 'count': 19645}, {'id': 1, 'name': 'Beautiful', 'count': 4573}, {'id': 9, 'name': 'Ingenious', 'count': 6073}, {'id': 3, 'name': 'Courageous', 'count': 3253}, {'id': 11, 'name': 'Longwinded', 'count': 387}, {'id': 2, 'name': 'Confusing', 'count': 242}, {'id': 8, 'name': 'Informative', 'count': 7346}, {'id': 22, 'name': 'Fascinating', 'count': 10581}, {'id': 21, 'name': 'Unconvincing', 'count': 300}, {'id': 24, 'name': 'Persuasive', 'count': 10704}, {'id': 23, 'name': 'Jaw-dropping', 'count': 4439}, {'id': 25, 'name': 'OK', 'count': 1174}, {'id': 26, 'name': 'Obnoxious', 'count': 209}, {'id': 10, 'name': 'Inspiring', 'count': 24924}]\""
      ]
     },
     "execution_count": 36,
     "metadata": {},
     "output_type": "execute_result"
    }
   ],
   "source": [
    "ted.ratings[0]"
   ]
  },
  {
   "cell_type": "code",
   "execution_count": 37,
   "metadata": {},
   "outputs": [
    {
     "data": {
      "text/plain": [
       "str"
      ]
     },
     "execution_count": 37,
     "metadata": {},
     "output_type": "execute_result"
    }
   ],
   "source": [
    "# Stringified ratings in the rating column\n",
    "type(ted.ratings[0])"
   ]
  },
  {
   "cell_type": "code",
   "execution_count": 38,
   "metadata": {},
   "outputs": [],
   "source": [
    "import ast"
   ]
  },
  {
   "cell_type": "code",
   "execution_count": 39,
   "metadata": {},
   "outputs": [
    {
     "data": {
      "text/plain": [
       "[1, 2, 3]"
      ]
     },
     "execution_count": 39,
     "metadata": {},
     "output_type": "execute_result"
    }
   ],
   "source": [
    "ast.literal_eval('[1,2,3]')"
   ]
  },
  {
   "cell_type": "code",
   "execution_count": 40,
   "metadata": {},
   "outputs": [
    {
     "data": {
      "text/plain": [
       "list"
      ]
     },
     "execution_count": 40,
     "metadata": {},
     "output_type": "execute_result"
    }
   ],
   "source": [
    "type(ast.literal_eval('[1,2,3]'))"
   ]
  },
  {
   "cell_type": "code",
   "execution_count": 41,
   "metadata": {},
   "outputs": [
    {
     "data": {
      "text/plain": [
       "list"
      ]
     },
     "execution_count": 41,
     "metadata": {},
     "output_type": "execute_result"
    }
   ],
   "source": [
    "type(ast.literal_eval(ted.ratings[0]))"
   ]
  },
  {
   "cell_type": "code",
   "execution_count": 42,
   "metadata": {},
   "outputs": [
    {
     "data": {
      "text/plain": [
       "[{'id': 7, 'name': 'Funny', 'count': 19645},\n",
       " {'id': 1, 'name': 'Beautiful', 'count': 4573},\n",
       " {'id': 9, 'name': 'Ingenious', 'count': 6073},\n",
       " {'id': 3, 'name': 'Courageous', 'count': 3253},\n",
       " {'id': 11, 'name': 'Longwinded', 'count': 387},\n",
       " {'id': 2, 'name': 'Confusing', 'count': 242},\n",
       " {'id': 8, 'name': 'Informative', 'count': 7346},\n",
       " {'id': 22, 'name': 'Fascinating', 'count': 10581},\n",
       " {'id': 21, 'name': 'Unconvincing', 'count': 300},\n",
       " {'id': 24, 'name': 'Persuasive', 'count': 10704},\n",
       " {'id': 23, 'name': 'Jaw-dropping', 'count': 4439},\n",
       " {'id': 25, 'name': 'OK', 'count': 1174},\n",
       " {'id': 26, 'name': 'Obnoxious', 'count': 209},\n",
       " {'id': 10, 'name': 'Inspiring', 'count': 24924}]"
      ]
     },
     "execution_count": 42,
     "metadata": {},
     "output_type": "execute_result"
    }
   ],
   "source": [
    "ast.literal_eval(ted.ratings[0])"
   ]
  },
  {
   "cell_type": "code",
   "execution_count": 43,
   "metadata": {},
   "outputs": [],
   "source": [
    "ted['ratings'] = ted.ratings.apply(lambda x:ast.literal_eval(x))"
   ]
  },
  {
   "cell_type": "code",
   "execution_count": 44,
   "metadata": {},
   "outputs": [],
   "source": [
    "# an even shorter alternative is to apply the function directly (without lambda)\n",
    "# ted.ratings.apply(ast.literal_eval).head()"
   ]
  },
  {
   "cell_type": "code",
   "execution_count": 45,
   "metadata": {},
   "outputs": [
    {
     "data": {
      "text/plain": [
       "[{'id': 7, 'name': 'Funny', 'count': 19645},\n",
       " {'id': 1, 'name': 'Beautiful', 'count': 4573},\n",
       " {'id': 9, 'name': 'Ingenious', 'count': 6073},\n",
       " {'id': 3, 'name': 'Courageous', 'count': 3253},\n",
       " {'id': 11, 'name': 'Longwinded', 'count': 387},\n",
       " {'id': 2, 'name': 'Confusing', 'count': 242},\n",
       " {'id': 8, 'name': 'Informative', 'count': 7346},\n",
       " {'id': 22, 'name': 'Fascinating', 'count': 10581},\n",
       " {'id': 21, 'name': 'Unconvincing', 'count': 300},\n",
       " {'id': 24, 'name': 'Persuasive', 'count': 10704},\n",
       " {'id': 23, 'name': 'Jaw-dropping', 'count': 4439},\n",
       " {'id': 25, 'name': 'OK', 'count': 1174},\n",
       " {'id': 26, 'name': 'Obnoxious', 'count': 209},\n",
       " {'id': 10, 'name': 'Inspiring', 'count': 24924}]"
      ]
     },
     "execution_count": 45,
     "metadata": {},
     "output_type": "execute_result"
    }
   ],
   "source": [
    "ted.ratings[0]"
   ]
  },
  {
   "cell_type": "markdown",
   "metadata": {},
   "source": [
    "## 7. Count the total number of ratings received by each talk\n",
    "**Bonus exercises:**\n",
    "\n",
    "- for each talk, calculate the percentage of ratings that were negative\n",
    "- for each talk, calculate the average number of ratings it received per day since it was published\n"
   ]
  },
  {
   "cell_type": "code",
   "execution_count": 46,
   "metadata": {},
   "outputs": [],
   "source": [
    "def get_num_ratings(list_of_dicts):\n",
    "    num = 0\n",
    "    for i in list_of_dicts:\n",
    "        num = num + i['count']\n",
    "    return num"
   ]
  },
  {
   "cell_type": "code",
   "execution_count": 47,
   "metadata": {},
   "outputs": [
    {
     "data": {
      "text/plain": [
       "0    93850\n",
       "1     2936\n",
       "2     2824\n",
       "3     3728\n",
       "4    25620\n",
       "5    15356\n",
       "6     5998\n",
       "7     1024\n",
       "8     3946\n",
       "9     8327\n",
       "Name: ratings, dtype: int64"
      ]
     },
     "execution_count": 47,
     "metadata": {},
     "output_type": "execute_result"
    }
   ],
   "source": [
    "ted.ratings.apply(get_num_ratings).head(10)"
   ]
  },
  {
   "cell_type": "code",
   "execution_count": 48,
   "metadata": {},
   "outputs": [
    {
     "data": {
      "text/plain": [
       "0    93850\n",
       "1     2936\n",
       "2     2824\n",
       "3     3728\n",
       "4    25620\n",
       "5    15356\n",
       "6     5998\n",
       "7     1024\n",
       "8     3946\n",
       "9     8327\n",
       "Name: ratings, dtype: int64"
      ]
     },
     "execution_count": 48,
     "metadata": {},
     "output_type": "execute_result"
    }
   ],
   "source": [
    "# use lambda to apply this method\n",
    "ted.ratings.apply(lambda x: sum((d['count'] for d in x))).head(10)"
   ]
  },
  {
   "cell_type": "code",
   "execution_count": 49,
   "metadata": {},
   "outputs": [
    {
     "data": {
      "text/plain": [
       "93850"
      ]
     },
     "execution_count": 49,
     "metadata": {},
     "output_type": "execute_result"
    }
   ],
   "source": [
    "# another alternative is to use pd.DataFrame()\n",
    "pd.DataFrame(ted.ratings[0])['count'].sum()"
   ]
  },
  {
   "cell_type": "code",
   "execution_count": 50,
   "metadata": {},
   "outputs": [
    {
     "data": {
      "text/plain": [
       "0    93850\n",
       "1     2936\n",
       "2     2824\n",
       "3     3728\n",
       "4    25620\n",
       "Name: ratings, dtype: int64"
      ]
     },
     "execution_count": 50,
     "metadata": {},
     "output_type": "execute_result"
    }
   ],
   "source": [
    "# use lambda to apply this method\n",
    "ted.ratings.apply(lambda x: pd.DataFrame(x)['count'].sum()).head()"
   ]
  },
  {
   "cell_type": "code",
   "execution_count": 51,
   "metadata": {},
   "outputs": [],
   "source": [
    "ted['num_ratings'] = ted.ratings.apply(get_num_ratings)"
   ]
  },
  {
   "cell_type": "code",
   "execution_count": 52,
   "metadata": {},
   "outputs": [
    {
     "data": {
      "text/plain": [
       "count     2550.000000\n",
       "mean      2436.408235\n",
       "std       4226.795631\n",
       "min         68.000000\n",
       "25%        870.750000\n",
       "50%       1452.500000\n",
       "75%       2506.750000\n",
       "max      93850.000000\n",
       "Name: num_ratings, dtype: float64"
      ]
     },
     "execution_count": 52,
     "metadata": {},
     "output_type": "execute_result"
    }
   ],
   "source": [
    "# do one more check\n",
    "ted.num_ratings.describe()"
   ]
  },
  {
   "cell_type": "markdown",
   "metadata": {},
   "source": [
    "## 8. Which occupations deliver the funniest TED talks on average?\n",
    "**Bonus exercises:**\n",
    "\n",
    "- for each talk, calculate the most frequent rating\n",
    "- for each talk, clean the occupation data so that there's only one occupation per talk"
   ]
  },
  {
   "cell_type": "markdown",
   "metadata": {},
   "source": [
    "### Step 1: Count the number of funny ratings"
   ]
  },
  {
   "cell_type": "code",
   "execution_count": 53,
   "metadata": {},
   "outputs": [],
   "source": [
    "# write a custom function\n",
    "def get_funny_ratings(list_of_dicts):\n",
    "    for i in list_of_dicts:\n",
    "        if i['name']=='Funny':\n",
    "            return i['count']"
   ]
  },
  {
   "cell_type": "code",
   "execution_count": 54,
   "metadata": {},
   "outputs": [],
   "source": [
    "ted['funny_ratings'] = ted.ratings.apply(get_funny_ratings)"
   ]
  },
  {
   "cell_type": "code",
   "execution_count": 55,
   "metadata": {},
   "outputs": [
    {
     "data": {
      "text/plain": [
       "0    19645\n",
       "1      544\n",
       "2      964\n",
       "3       59\n",
       "4     1390\n",
       "Name: funny_ratings, dtype: int64"
      ]
     },
     "execution_count": 55,
     "metadata": {},
     "output_type": "execute_result"
    }
   ],
   "source": [
    "ted.funny_ratings.head()"
   ]
  },
  {
   "cell_type": "code",
   "execution_count": 56,
   "metadata": {},
   "outputs": [
    {
     "data": {
      "text/plain": [
       "0"
      ]
     },
     "execution_count": 56,
     "metadata": {},
     "output_type": "execute_result"
    }
   ],
   "source": [
    "# check for missing values\n",
    "ted.funny_ratings.isna().sum()"
   ]
  },
  {
   "cell_type": "markdown",
   "metadata": {},
   "source": [
    "### Step 2: Calculate the percentage of ratings that are funny"
   ]
  },
  {
   "cell_type": "code",
   "execution_count": 57,
   "metadata": {},
   "outputs": [],
   "source": [
    "ted['funny_rate'] = ted.funny_ratings/ted.num_ratings"
   ]
  },
  {
   "cell_type": "code",
   "execution_count": 58,
   "metadata": {},
   "outputs": [
    {
     "data": {
      "text/html": [
       "<div>\n",
       "<style scoped>\n",
       "    .dataframe tbody tr th:only-of-type {\n",
       "        vertical-align: middle;\n",
       "    }\n",
       "\n",
       "    .dataframe tbody tr th {\n",
       "        vertical-align: top;\n",
       "    }\n",
       "\n",
       "    .dataframe thead th {\n",
       "        text-align: right;\n",
       "    }\n",
       "</style>\n",
       "<table border=\"1\" class=\"dataframe\">\n",
       "  <thead>\n",
       "    <tr style=\"text-align: right;\">\n",
       "      <th></th>\n",
       "      <th>speaker_occupation</th>\n",
       "      <th>funny_rate</th>\n",
       "    </tr>\n",
       "  </thead>\n",
       "  <tbody>\n",
       "    <tr>\n",
       "      <th>685</th>\n",
       "      <td>Actor, comedian, playwright</td>\n",
       "      <td>0.702076</td>\n",
       "    </tr>\n",
       "    <tr>\n",
       "      <th>1398</th>\n",
       "      <td>Comedian</td>\n",
       "      <td>0.669927</td>\n",
       "    </tr>\n",
       "    <tr>\n",
       "      <th>747</th>\n",
       "      <td>Comedian</td>\n",
       "      <td>0.630677</td>\n",
       "    </tr>\n",
       "    <tr>\n",
       "      <th>173</th>\n",
       "      <td>Investor</td>\n",
       "      <td>0.629662</td>\n",
       "    </tr>\n",
       "    <tr>\n",
       "      <th>2114</th>\n",
       "      <td>Comedian and writer</td>\n",
       "      <td>0.625182</td>\n",
       "    </tr>\n",
       "    <tr>\n",
       "      <th>2273</th>\n",
       "      <td>Comedian and writer</td>\n",
       "      <td>0.578989</td>\n",
       "    </tr>\n",
       "    <tr>\n",
       "      <th>194</th>\n",
       "      <td>Jugglers</td>\n",
       "      <td>0.566828</td>\n",
       "    </tr>\n",
       "    <tr>\n",
       "      <th>21</th>\n",
       "      <td>Humorist, web artist</td>\n",
       "      <td>0.542022</td>\n",
       "    </tr>\n",
       "    <tr>\n",
       "      <th>675</th>\n",
       "      <td>Data scientist</td>\n",
       "      <td>0.527406</td>\n",
       "    </tr>\n",
       "    <tr>\n",
       "      <th>568</th>\n",
       "      <td>Comedian</td>\n",
       "      <td>0.525407</td>\n",
       "    </tr>\n",
       "  </tbody>\n",
       "</table>\n",
       "</div>"
      ],
      "text/plain": [
       "               speaker_occupation  funny_rate\n",
       "685   Actor, comedian, playwright    0.702076\n",
       "1398                     Comedian    0.669927\n",
       "747                      Comedian    0.630677\n",
       "173                      Investor    0.629662\n",
       "2114          Comedian and writer    0.625182\n",
       "2273          Comedian and writer    0.578989\n",
       "194                      Jugglers    0.566828\n",
       "21           Humorist, web artist    0.542022\n",
       "675                Data scientist    0.527406\n",
       "568                      Comedian    0.525407"
      ]
     },
     "execution_count": 58,
     "metadata": {},
     "output_type": "execute_result"
    }
   ],
   "source": [
    "# \"gut check\" that this calculation makes sense by examining the occupations of the funniest talks\n",
    "ted.loc[:,['speaker_occupation','funny_rate']].sort_values('funny_rate',ascending=False).head(10)"
   ]
  },
  {
   "cell_type": "code",
   "execution_count": 59,
   "metadata": {},
   "outputs": [
    {
     "data": {
      "text/html": [
       "<div>\n",
       "<style scoped>\n",
       "    .dataframe tbody tr th:only-of-type {\n",
       "        vertical-align: middle;\n",
       "    }\n",
       "\n",
       "    .dataframe tbody tr th {\n",
       "        vertical-align: top;\n",
       "    }\n",
       "\n",
       "    .dataframe thead th {\n",
       "        text-align: right;\n",
       "    }\n",
       "</style>\n",
       "<table border=\"1\" class=\"dataframe\">\n",
       "  <thead>\n",
       "    <tr style=\"text-align: right;\">\n",
       "      <th></th>\n",
       "      <th>speaker_occupation</th>\n",
       "      <th>funny_rate</th>\n",
       "    </tr>\n",
       "  </thead>\n",
       "  <tbody>\n",
       "    <tr>\n",
       "      <th>2549</th>\n",
       "      <td>Game designer</td>\n",
       "      <td>0.0</td>\n",
       "    </tr>\n",
       "    <tr>\n",
       "      <th>1612</th>\n",
       "      <td>Biologist</td>\n",
       "      <td>0.0</td>\n",
       "    </tr>\n",
       "    <tr>\n",
       "      <th>612</th>\n",
       "      <td>Sculptor</td>\n",
       "      <td>0.0</td>\n",
       "    </tr>\n",
       "    <tr>\n",
       "      <th>998</th>\n",
       "      <td>Penguin expert</td>\n",
       "      <td>0.0</td>\n",
       "    </tr>\n",
       "    <tr>\n",
       "      <th>593</th>\n",
       "      <td>Engineer</td>\n",
       "      <td>0.0</td>\n",
       "    </tr>\n",
       "    <tr>\n",
       "      <th>284</th>\n",
       "      <td>Space activist</td>\n",
       "      <td>0.0</td>\n",
       "    </tr>\n",
       "    <tr>\n",
       "      <th>1041</th>\n",
       "      <td>Biomedical engineer</td>\n",
       "      <td>0.0</td>\n",
       "    </tr>\n",
       "    <tr>\n",
       "      <th>1618</th>\n",
       "      <td>Spinal cord researcher</td>\n",
       "      <td>0.0</td>\n",
       "    </tr>\n",
       "    <tr>\n",
       "      <th>2132</th>\n",
       "      <td>Computational geneticist</td>\n",
       "      <td>0.0</td>\n",
       "    </tr>\n",
       "    <tr>\n",
       "      <th>442</th>\n",
       "      <td>Sculptor</td>\n",
       "      <td>0.0</td>\n",
       "    </tr>\n",
       "  </tbody>\n",
       "</table>\n",
       "</div>"
      ],
      "text/plain": [
       "            speaker_occupation  funny_rate\n",
       "2549             Game designer         0.0\n",
       "1612                 Biologist         0.0\n",
       "612                   Sculptor         0.0\n",
       "998             Penguin expert         0.0\n",
       "593                   Engineer         0.0\n",
       "284             Space activist         0.0\n",
       "1041       Biomedical engineer         0.0\n",
       "1618    Spinal cord researcher         0.0\n",
       "2132  Computational geneticist         0.0\n",
       "442                   Sculptor         0.0"
      ]
     },
     "execution_count": 59,
     "metadata": {},
     "output_type": "execute_result"
    }
   ],
   "source": [
    "# examine the occupations of the least funny talks\n",
    "ted.loc[:,['speaker_occupation','funny_rate']].sort_values('funny_rate').head(10)"
   ]
  },
  {
   "cell_type": "markdown",
   "metadata": {},
   "source": [
    "### Step 3: Analyze the funny rate by occupation"
   ]
  },
  {
   "cell_type": "code",
   "execution_count": 60,
   "metadata": {},
   "outputs": [
    {
     "data": {
      "text/plain": [
       "speaker_occupation\n",
       "Comedian and writer            0.602085\n",
       "Jugglers                       0.566828\n",
       "Actor, comedian, playwright    0.558107\n",
       "Actor, writer                  0.515152\n",
       "Comedian                       0.512457\n",
       "Satirist                       0.512383\n",
       "Cartoon editor                 0.511628\n",
       "Comedian, voice artist         0.503542\n",
       "Social energy entrepreneur     0.502117\n",
       "Science humorist               0.468405\n",
       "Name: funny_rate, dtype: float64"
      ]
     },
     "execution_count": 60,
     "metadata": {},
     "output_type": "execute_result"
    }
   ],
   "source": [
    "# calculate the mean funny rate for each occupation\n",
    "ted.groupby('speaker_occupation').funny_rate.mean().sort_values(ascending=False).head(10)"
   ]
  },
  {
   "cell_type": "code",
   "execution_count": 61,
   "metadata": {},
   "outputs": [
    {
     "data": {
      "text/plain": [
       "count       2544\n",
       "unique      1458\n",
       "top       Writer\n",
       "freq          45\n",
       "Name: speaker_occupation, dtype: object"
      ]
     },
     "execution_count": 61,
     "metadata": {},
     "output_type": "execute_result"
    }
   ],
   "source": [
    "# however, most of the occupations have a sample size of 1\n",
    "ted.speaker_occupation.describe()"
   ]
  },
  {
   "cell_type": "markdown",
   "metadata": {},
   "source": [
    "### Step 4: Focus on occupations that are well-represented in the data"
   ]
  },
  {
   "cell_type": "code",
   "execution_count": 62,
   "metadata": {},
   "outputs": [
    {
     "data": {
      "text/plain": [
       "Writer                                                             45\n",
       "Designer                                                           34\n",
       "Artist                                                             34\n",
       "Journalist                                                         33\n",
       "Entrepreneur                                                       31\n",
       "Architect                                                          30\n",
       "Inventor                                                           27\n",
       "Psychologist                                                       26\n",
       "Photographer                                                       25\n",
       "Filmmaker                                                          21\n",
       "Educator                                                           20\n",
       "Author                                                             20\n",
       "Neuroscientist                                                     20\n",
       "Economist                                                          20\n",
       "Philosopher                                                        16\n",
       "Roboticist                                                         16\n",
       "Biologist                                                          15\n",
       "Physicist                                                          14\n",
       "Musician                                                           11\n",
       "Marine biologist                                                   11\n",
       "Technologist                                                       10\n",
       "Global health expert; data visionary                               10\n",
       "Activist                                                           10\n",
       "Philanthropist                                                      9\n",
       "Graphic designer                                                    9\n",
       "Astronomer                                                          9\n",
       "Singer/songwriter                                                   9\n",
       "Poet                                                                9\n",
       "Historian                                                           9\n",
       "Oceanographer                                                       9\n",
       "                                                                   ..\n",
       "Painter                                                             1\n",
       "Papercutter artist                                                  1\n",
       "Entrepreneur and philanthropist                                     1\n",
       "Artist, scientist and entrepreneur                                  1\n",
       "Bow designer                                                        1\n",
       "Communicator                                                        1\n",
       "Tech entrepreneur                                                   1\n",
       "Toymaker                                                            1\n",
       "Maestro                                                             1\n",
       "Disrupter                                                           1\n",
       "Cancer technologist                                                 1\n",
       "Literary critic                                                     1\n",
       "Urban planner, designer, author                                     1\n",
       "Atmospheric chemist                                                 1\n",
       "X-ray visionary                                                     1\n",
       "Special Olympics International Sargent Shriver Global Messenger     1\n",
       "Engineer and origamist                                              1\n",
       "Applied scientist, innovator                                        1\n",
       "Technologist and visionary                                          1\n",
       "Policy reformer                                                     1\n",
       "Drone maker                                                         1\n",
       "Computational geneticist                                            1\n",
       "Tech publisher                                                      1\n",
       "Poet, playwright                                                    1\n",
       "Education pioneer                                                   1\n",
       "Historian of technology and culture                                 1\n",
       "Public health sociologist                                           1\n",
       "e-Patient                                                           1\n",
       "Herpetologist                                                       1\n",
       "Deputy director, NSA                                                1\n",
       "Name: speaker_occupation, Length: 1458, dtype: int64"
      ]
     },
     "execution_count": 62,
     "metadata": {},
     "output_type": "execute_result"
    }
   ],
   "source": [
    "# count how many times each occupation appears\n",
    "ted.speaker_occupation.value_counts()"
   ]
  },
  {
   "cell_type": "code",
   "execution_count": 63,
   "metadata": {},
   "outputs": [
    {
     "data": {
      "text/plain": [
       "pandas.core.series.Series"
      ]
     },
     "execution_count": 63,
     "metadata": {},
     "output_type": "execute_result"
    }
   ],
   "source": [
    "# value_counts() outputs a pandas Series, thus we can use pandas to manipulate the output\n",
    "occupation_counts = ted.speaker_occupation.value_counts()\n",
    "type(occupation_counts)"
   ]
  },
  {
   "cell_type": "code",
   "execution_count": 64,
   "metadata": {},
   "outputs": [
    {
     "data": {
      "text/plain": [
       "Writer                                        45\n",
       "Designer                                      34\n",
       "Artist                                        34\n",
       "Journalist                                    33\n",
       "Entrepreneur                                  31\n",
       "Architect                                     30\n",
       "Inventor                                      27\n",
       "Psychologist                                  26\n",
       "Photographer                                  25\n",
       "Filmmaker                                     21\n",
       "Educator                                      20\n",
       "Author                                        20\n",
       "Neuroscientist                                20\n",
       "Economist                                     20\n",
       "Philosopher                                   16\n",
       "Roboticist                                    16\n",
       "Biologist                                     15\n",
       "Physicist                                     14\n",
       "Musician                                      11\n",
       "Marine biologist                              11\n",
       "Technologist                                  10\n",
       "Global health expert; data visionary          10\n",
       "Activist                                      10\n",
       "Philanthropist                                 9\n",
       "Graphic designer                               9\n",
       "Astronomer                                     9\n",
       "Singer/songwriter                              9\n",
       "Poet                                           9\n",
       "Historian                                      9\n",
       "Oceanographer                                  9\n",
       "                                              ..\n",
       "Comedian                                       6\n",
       "Legal activist                                 6\n",
       "Social entrepreneur                            6\n",
       "Writer, activist                               6\n",
       "Climate advocate                               6\n",
       "Performance poet, multimedia artist            6\n",
       "Evolutionary biologist                         6\n",
       "Reporter                                       6\n",
       "Singer-songwriter                              6\n",
       "Photojournalist                                6\n",
       "Techno-illusionist                             6\n",
       "Physician                                      5\n",
       "Investor and advocate for moral leadership     5\n",
       "Researcher                                     5\n",
       "Chef                                           5\n",
       "Surgeon                                        5\n",
       "Violinist                                      5\n",
       "Sculptor                                       5\n",
       "Tech visionary                                 5\n",
       "Musician, activist                             5\n",
       "Data scientist                                 5\n",
       "Chemist                                        5\n",
       "Sound consultant                               5\n",
       "Environmentalist, futurist                     5\n",
       "Science writer                                 5\n",
       "Social Media Theorist                          5\n",
       "Paleontologist                                 5\n",
       "Producer                                       5\n",
       "Cartoonist                                     5\n",
       "Game designer                                  5\n",
       "Name: speaker_occupation, Length: 68, dtype: int64"
      ]
     },
     "execution_count": 64,
     "metadata": {},
     "output_type": "execute_result"
    }
   ],
   "source": [
    "# show occupations which appear at least 5 times\n",
    "occupation_counts[occupation_counts >= 5]"
   ]
  },
  {
   "cell_type": "code",
   "execution_count": 65,
   "metadata": {},
   "outputs": [
    {
     "data": {
      "text/plain": [
       "Index(['Writer', 'Designer', 'Artist', 'Journalist', 'Entrepreneur',\n",
       "       'Architect', 'Inventor', 'Psychologist', 'Photographer', 'Filmmaker',\n",
       "       'Educator', 'Author', 'Neuroscientist', 'Economist', 'Philosopher',\n",
       "       'Roboticist', 'Biologist', 'Physicist', 'Musician', 'Marine biologist',\n",
       "       'Technologist', 'Global health expert; data visionary', 'Activist',\n",
       "       'Philanthropist', 'Graphic designer', 'Astronomer', 'Singer/songwriter',\n",
       "       'Poet', 'Historian', 'Oceanographer', 'Behavioral economist',\n",
       "       'Futurist', 'Social psychologist', 'Engineer', 'Computer scientist',\n",
       "       'Novelist', 'Mathematician', 'Astrophysicist', 'Comedian',\n",
       "       'Legal activist', 'Social entrepreneur', 'Writer, activist',\n",
       "       'Climate advocate', 'Performance poet, multimedia artist',\n",
       "       'Evolutionary biologist', 'Reporter', 'Singer-songwriter',\n",
       "       'Photojournalist', 'Techno-illusionist', 'Physician',\n",
       "       'Investor and advocate for moral leadership', 'Researcher', 'Chef',\n",
       "       'Surgeon', 'Violinist', 'Sculptor', 'Tech visionary',\n",
       "       'Musician, activist', 'Data scientist', 'Chemist', 'Sound consultant',\n",
       "       'Environmentalist, futurist', 'Science writer', 'Social Media Theorist',\n",
       "       'Paleontologist', 'Producer', 'Cartoonist', 'Game designer'],\n",
       "      dtype='object')"
      ]
     },
     "execution_count": 65,
     "metadata": {},
     "output_type": "execute_result"
    }
   ],
   "source": [
    "# save the index of this Series\n",
    "top_occupations = occupation_counts[occupation_counts >= 5].index\n",
    "top_occupations"
   ]
  },
  {
   "cell_type": "markdown",
   "metadata": {},
   "source": [
    "### Step 5: Re-analyze the funny rate by occupation (for top occupations only)"
   ]
  },
  {
   "cell_type": "code",
   "execution_count": 66,
   "metadata": {},
   "outputs": [
    {
     "data": {
      "text/plain": [
       "(786, 22)"
      ]
     },
     "execution_count": 66,
     "metadata": {},
     "output_type": "execute_result"
    }
   ],
   "source": [
    "# filter DataFrame to include only those occupations\n",
    "ted_top_occupations = ted[ted.speaker_occupation.isin(top_occupations)]\n",
    "ted_top_occupations.shape"
   ]
  },
  {
   "cell_type": "code",
   "execution_count": 67,
   "metadata": {},
   "outputs": [
    {
     "data": {
      "text/plain": [
       "speaker_occupation\n",
       "Comedian                                0.512457\n",
       "Performance poet, multimedia artist     0.306468\n",
       "Singer/songwriter                       0.252205\n",
       "Producer                                0.202531\n",
       "Data scientist                          0.184076\n",
       "Cartoonist                              0.162120\n",
       "Techno-illusionist                      0.152171\n",
       "Graphic designer                        0.135718\n",
       "Poet                                    0.107398\n",
       "Global health expert; data visionary    0.090306\n",
       "Name: funny_rate, dtype: float64"
      ]
     },
     "execution_count": 67,
     "metadata": {},
     "output_type": "execute_result"
    }
   ],
   "source": [
    "# redo the previous groupby\n",
    "ted_top_occupations.groupby('speaker_occupation').funny_rate.mean().sort_values(ascending=False).head(10)"
   ]
  },
  {
   "cell_type": "code",
   "execution_count": null,
   "metadata": {},
   "outputs": [],
   "source": []
  }
 ],
 "metadata": {
  "kernelspec": {
   "display_name": "Python 3",
   "language": "python",
   "name": "python3"
  },
  "language_info": {
   "codemirror_mode": {
    "name": "ipython",
    "version": 3
   },
   "file_extension": ".py",
   "mimetype": "text/x-python",
   "name": "python",
   "nbconvert_exporter": "python",
   "pygments_lexer": "ipython3",
   "version": "3.7.3"
  }
 },
 "nbformat": 4,
 "nbformat_minor": 2
}
